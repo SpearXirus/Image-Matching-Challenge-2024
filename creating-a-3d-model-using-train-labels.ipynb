{
 "cells": [
  {
   "cell_type": "markdown",
   "id": "4b21b129",
   "metadata": {
    "papermill": {
     "duration": 0.009361,
     "end_time": "2024-05-08T06:29:35.392615",
     "exception": false,
     "start_time": "2024-05-08T06:29:35.383254",
     "status": "completed"
    },
    "tags": []
   },
   "source": [
    "# Overview\n",
    " In this notebook, I write the process of making a 3D model, utilizing train_labels.\n",
    " \n",
    " So, the process is summarized as follows.\n",
    " \n",
    "* [0. Preparing](#0)\n",
    "* [1. Extracting feature points from images](#1)\n",
    "* [2. Clustering](#2)\n",
    "* [3. Detecting outliers through RANSAC](#3)\n",
    "* [4. Mapping fps into the 3D model](#4)\n",
    "* [5. Calculating projection matrices](#5)\n",
    "* [6. Getting tagets](#6)"
   ]
  },
  {
   "cell_type": "markdown",
   "id": "524f1e06",
   "metadata": {
    "papermill": {
     "duration": 0.008642,
     "end_time": "2024-05-08T06:29:35.410382",
     "exception": false,
     "start_time": "2024-05-08T06:29:35.401740",
     "status": "completed"
    },
    "tags": []
   },
   "source": [
    "<a id=\"0\"></a>\n",
    "# 0. Preparing"
   ]
  },
  {
   "cell_type": "markdown",
   "id": "1d88db17",
   "metadata": {
    "papermill": {
     "duration": 0.008446,
     "end_time": "2024-05-08T06:29:35.427734",
     "exception": false,
     "start_time": "2024-05-08T06:29:35.419288",
     "status": "completed"
    },
    "tags": []
   },
   "source": [
    "## Import"
   ]
  },
  {
   "cell_type": "code",
   "execution_count": 1,
   "id": "aa806840",
   "metadata": {
    "_kg_hide-output": true,
    "execution": {
     "iopub.execute_input": "2024-05-08T06:29:35.448260Z",
     "iopub.status.busy": "2024-05-08T06:29:35.447877Z",
     "iopub.status.idle": "2024-05-08T06:29:39.630867Z",
     "shell.execute_reply": "2024-05-08T06:29:39.628854Z"
    },
    "papermill": {
     "duration": 4.196023,
     "end_time": "2024-05-08T06:29:39.633500",
     "exception": false,
     "start_time": "2024-05-08T06:29:35.437477",
     "status": "completed"
    },
    "tags": []
   },
   "outputs": [
    {
     "name": "stdout",
     "output_type": "stream",
     "text": [
      "Processing /kaggle/input/imc2024-packages-lightglue-rerun-kornia/kornia-0.7.2-py2.py3-none-any.whl\r\n",
      "Processing /kaggle/input/imc2024-packages-lightglue-rerun-kornia/kornia_moons-0.2.9-py3-none-any.whl\r\n",
      "Processing /kaggle/input/imc2024-packages-lightglue-rerun-kornia/kornia_rs-0.1.2-cp310-cp310-manylinux_2_17_x86_64.manylinux2014_x86_64.whl\r\n",
      "Processing /kaggle/input/imc2024-packages-lightglue-rerun-kornia/lightglue-0.0-py3-none-any.whl\r\n",
      "Processing /kaggle/input/imc2024-packages-lightglue-rerun-kornia/pycolmap-0.6.1-cp310-cp310-manylinux_2_17_x86_64.manylinux2014_x86_64.whl\r\n",
      "Processing /kaggle/input/imc2024-packages-lightglue-rerun-kornia/rerun_sdk-0.15.0a2-cp38-abi3-manylinux_2_31_x86_64.whl\r\n",
      "kornia is already installed with the same version as the provided wheel. Use --force-reinstall to force an installation of the wheel.\r\n",
      "Installing collected packages: rerun-sdk, pycolmap, lightglue, kornia-rs, kornia-moons\r\n",
      "  Attempting uninstall: kornia-rs\r\n",
      "    Found existing installation: kornia_rs 0.1.3\r\n",
      "    Uninstalling kornia_rs-0.1.3:\r\n",
      "      Successfully uninstalled kornia_rs-0.1.3\r\n",
      "Successfully installed kornia-moons-0.2.9 kornia-rs-0.1.2 lightglue-0.0 pycolmap-0.6.1 rerun-sdk-0.15.0a2\r\n"
     ]
    }
   ],
   "source": [
    "!pip install --no-index /kaggle/input/imc2024-packages-lightglue-rerun-kornia/* --no-deps\n",
    "!mkdir -p /root/.cache/torch/hub/checkpoints\n",
    "!cp /kaggle/input/aliked/pytorch/aliked-n16/1/* /root/.cache/torch/hub/checkpoints/"
   ]
  },
  {
   "cell_type": "code",
   "execution_count": 2,
   "id": "27422c6c",
   "metadata": {
    "execution": {
     "iopub.execute_input": "2024-05-08T06:29:39.654720Z",
     "iopub.status.busy": "2024-05-08T06:29:39.654282Z",
     "iopub.status.idle": "2024-05-08T06:29:50.349093Z",
     "shell.execute_reply": "2024-05-08T06:29:50.347737Z"
    },
    "papermill": {
     "duration": 10.708796,
     "end_time": "2024-05-08T06:29:50.351733",
     "exception": false,
     "start_time": "2024-05-08T06:29:39.642937",
     "status": "completed"
    },
    "tags": []
   },
   "outputs": [],
   "source": [
    "import os\n",
    "import numpy as np\n",
    "import pandas as pd\n",
    "\n",
    "import cv2\n",
    "import torch\n",
    "from lightglue import ALIKED\n",
    "from lightglue.utils import load_image, rbd\n",
    "\n",
    "from sklearn.cluster import KMeans\n",
    "from sklearn.linear_model import LinearRegression\n",
    "\n",
    "import warnings"
   ]
  },
  {
   "cell_type": "markdown",
   "id": "001973d4",
   "metadata": {
    "papermill": {
     "duration": 0.009449,
     "end_time": "2024-05-08T06:29:50.372064",
     "exception": false,
     "start_time": "2024-05-08T06:29:50.362615",
     "status": "completed"
    },
    "tags": []
   },
   "source": [
    "## Set"
   ]
  },
  {
   "cell_type": "code",
   "execution_count": 3,
   "id": "733a4b6c",
   "metadata": {
    "execution": {
     "iopub.execute_input": "2024-05-08T06:29:50.393399Z",
     "iopub.status.busy": "2024-05-08T06:29:50.392573Z",
     "iopub.status.idle": "2024-05-08T06:29:50.419670Z",
     "shell.execute_reply": "2024-05-08T06:29:50.418456Z"
    },
    "papermill": {
     "duration": 0.039829,
     "end_time": "2024-05-08T06:29:50.421845",
     "exception": false,
     "start_time": "2024-05-08T06:29:50.382016",
     "status": "completed"
    },
    "tags": []
   },
   "outputs": [],
   "source": [
    "src = \"/kaggle/input/image-matching-challenge-2024\"\n",
    "dummy = np.zeros((1024,1024))\n",
    "cv2.imwrite(\"dummy.png\", dummy)\n",
    "device = torch.device('cuda') if torch.cuda.is_available() else torch.device('cpu')\n",
    "DEBUG = len([f for f in os.listdir(f\"{src}/test\") if os.path.isdir(os.path.join(f\"{src}/test\", f))]) == 1"
   ]
  },
  {
   "cell_type": "code",
   "execution_count": 4,
   "id": "cfd7f081",
   "metadata": {
    "execution": {
     "iopub.execute_input": "2024-05-08T06:29:50.443688Z",
     "iopub.status.busy": "2024-05-08T06:29:50.442769Z",
     "iopub.status.idle": "2024-05-08T06:29:50.449261Z",
     "shell.execute_reply": "2024-05-08T06:29:50.448171Z"
    },
    "papermill": {
     "duration": 0.020343,
     "end_time": "2024-05-08T06:29:50.451542",
     "exception": false,
     "start_time": "2024-05-08T06:29:50.431199",
     "status": "completed"
    },
    "tags": []
   },
   "outputs": [],
   "source": [
    "def str_to_arr(string: str, shape: tuple[int,int]):\n",
    "    lst = string.split(';')\n",
    "    array = []\n",
    "    for s in lst:\n",
    "        array.append(float(s))\n",
    "    return np.array(array).reshape(shape)\n",
    "def arr_to_str(array: np.array):\n",
    "    return \";\".join([value for value in array.reshape(-1)])"
   ]
  },
  {
   "cell_type": "code",
   "execution_count": 5,
   "id": "c2a13a26",
   "metadata": {
    "execution": {
     "iopub.execute_input": "2024-05-08T06:29:50.472081Z",
     "iopub.status.busy": "2024-05-08T06:29:50.471570Z",
     "iopub.status.idle": "2024-05-08T06:29:50.478228Z",
     "shell.execute_reply": "2024-05-08T06:29:50.477023Z"
    },
    "papermill": {
     "duration": 0.020204,
     "end_time": "2024-05-08T06:29:50.481071",
     "exception": false,
     "start_time": "2024-05-08T06:29:50.460867",
     "status": "completed"
    },
    "tags": []
   },
   "outputs": [],
   "source": [
    "if DEBUG:\n",
    "    num_images = 50\n",
    "    max_num_keypoints = 256\n",
    "    detection_threshold = 0.75\n",
    "    num_feature_points = 5120\n",
    "    n_clusters = 512\n",
    "    random_state = 0\n",
    "    main_n_init = 5\n",
    "    sub_n_init = 3\n",
    "    num_semi_rep_points_train = 5\n",
    "    num_rep_points_train = 3\n",
    "    num_train = 2000\n",
    "    num_semi_rep_points_test = 5\n",
    "    num_rep_points_test = 3\n",
    "else:\n",
    "    max_num_keypoints = 512\n",
    "    detection_threshold = 0.7\n",
    "    n_clusters = 1024\n",
    "    random_state = 22\n",
    "    main_n_init = 10\n",
    "    sub_n_init = 5\n",
    "    num_semi_rep_points_train = 10\n",
    "    num_rep_points_test = 5\n",
    "    num_train = 5000\n",
    "    num_semi_rep_points_test = 10\n",
    "    num_rep_points_test = 5"
   ]
  },
  {
   "cell_type": "markdown",
   "id": "a782c1bc",
   "metadata": {
    "papermill": {
     "duration": 0.008808,
     "end_time": "2024-05-08T06:29:50.499260",
     "exception": false,
     "start_time": "2024-05-08T06:29:50.490452",
     "status": "completed"
    },
    "tags": []
   },
   "source": [
    "## Load train_labels and preprocess"
   ]
  },
  {
   "cell_type": "code",
   "execution_count": 6,
   "id": "5b86418d",
   "metadata": {
    "execution": {
     "iopub.execute_input": "2024-05-08T06:29:50.519888Z",
     "iopub.status.busy": "2024-05-08T06:29:50.519553Z",
     "iopub.status.idle": "2024-05-08T06:29:50.576922Z",
     "shell.execute_reply": "2024-05-08T06:29:50.575574Z"
    },
    "papermill": {
     "duration": 0.070665,
     "end_time": "2024-05-08T06:29:50.579420",
     "exception": false,
     "start_time": "2024-05-08T06:29:50.508755",
     "status": "completed"
    },
    "tags": []
   },
   "outputs": [
    {
     "data": {
      "text/html": [
       "<div>\n",
       "<style scoped>\n",
       "    .dataframe tbody tr th:only-of-type {\n",
       "        vertical-align: middle;\n",
       "    }\n",
       "\n",
       "    .dataframe tbody tr th {\n",
       "        vertical-align: top;\n",
       "    }\n",
       "\n",
       "    .dataframe thead th {\n",
       "        text-align: right;\n",
       "    }\n",
       "</style>\n",
       "<table border=\"1\" class=\"dataframe\">\n",
       "  <thead>\n",
       "    <tr style=\"text-align: right;\">\n",
       "      <th></th>\n",
       "      <th>image_name</th>\n",
       "      <th>rotation_matrix</th>\n",
       "      <th>translation_vector</th>\n",
       "      <th>calibration_matrix</th>\n",
       "      <th>dataset</th>\n",
       "      <th>scene</th>\n",
       "    </tr>\n",
       "  </thead>\n",
       "  <tbody>\n",
       "    <tr>\n",
       "      <th>0</th>\n",
       "      <td>00.png</td>\n",
       "      <td>0.999017467386748;-0.01951432487219089;0.03979...</td>\n",
       "      <td>-0.011700149127917355;0.018812528601332625;0.3...</td>\n",
       "      <td>5809.066058292364;0.0;2496.9582994472266;0.0;5...</td>\n",
       "      <td>transp_obj_glass_cup</td>\n",
       "      <td>transp_obj_glass_cup</td>\n",
       "    </tr>\n",
       "    <tr>\n",
       "      <th>1</th>\n",
       "      <td>01.png</td>\n",
       "      <td>0.999147719991382;-0.021624129414769648;0.0351...</td>\n",
       "      <td>-0.011610785964818585;0.016710808069866724;0.3...</td>\n",
       "      <td>5809.066058292364;0.0;2496.9582994472266;0.0;5...</td>\n",
       "      <td>transp_obj_glass_cup</td>\n",
       "      <td>transp_obj_glass_cup</td>\n",
       "    </tr>\n",
       "    <tr>\n",
       "      <th>2</th>\n",
       "      <td>02.png</td>\n",
       "      <td>0.9992527616183833;-0.02402019259931326;0.0302...</td>\n",
       "      <td>-0.011589797430545654;0.014113680489915202;0.3...</td>\n",
       "      <td>5809.066058292364;0.0;2496.9582994472266;0.0;5...</td>\n",
       "      <td>transp_obj_glass_cup</td>\n",
       "      <td>transp_obj_glass_cup</td>\n",
       "    </tr>\n",
       "    <tr>\n",
       "      <th>3</th>\n",
       "      <td>03.png</td>\n",
       "      <td>0.9993946226667176;-0.02356062921667625;0.0255...</td>\n",
       "      <td>-0.011471598819000773;0.011325953000912126;0.3...</td>\n",
       "      <td>5809.066058292364;0.0;2496.9582994472266;0.0;5...</td>\n",
       "      <td>transp_obj_glass_cup</td>\n",
       "      <td>transp_obj_glass_cup</td>\n",
       "    </tr>\n",
       "    <tr>\n",
       "      <th>4</th>\n",
       "      <td>04.png</td>\n",
       "      <td>0.9995276708105233;-0.02256816267742356;0.0208...</td>\n",
       "      <td>-0.011389007765655301;0.008237801582322509;0.3...</td>\n",
       "      <td>5809.066058292364;0.0;2496.9582994472266;0.0;5...</td>\n",
       "      <td>transp_obj_glass_cup</td>\n",
       "      <td>transp_obj_glass_cup</td>\n",
       "    </tr>\n",
       "  </tbody>\n",
       "</table>\n",
       "</div>"
      ],
      "text/plain": [
       "  image_name                                    rotation_matrix  \\\n",
       "0     00.png  0.999017467386748;-0.01951432487219089;0.03979...   \n",
       "1     01.png  0.999147719991382;-0.021624129414769648;0.0351...   \n",
       "2     02.png  0.9992527616183833;-0.02402019259931326;0.0302...   \n",
       "3     03.png  0.9993946226667176;-0.02356062921667625;0.0255...   \n",
       "4     04.png  0.9995276708105233;-0.02256816267742356;0.0208...   \n",
       "\n",
       "                                  translation_vector  \\\n",
       "0  -0.011700149127917355;0.018812528601332625;0.3...   \n",
       "1  -0.011610785964818585;0.016710808069866724;0.3...   \n",
       "2  -0.011589797430545654;0.014113680489915202;0.3...   \n",
       "3  -0.011471598819000773;0.011325953000912126;0.3...   \n",
       "4  -0.011389007765655301;0.008237801582322509;0.3...   \n",
       "\n",
       "                                  calibration_matrix               dataset  \\\n",
       "0  5809.066058292364;0.0;2496.9582994472266;0.0;5...  transp_obj_glass_cup   \n",
       "1  5809.066058292364;0.0;2496.9582994472266;0.0;5...  transp_obj_glass_cup   \n",
       "2  5809.066058292364;0.0;2496.9582994472266;0.0;5...  transp_obj_glass_cup   \n",
       "3  5809.066058292364;0.0;2496.9582994472266;0.0;5...  transp_obj_glass_cup   \n",
       "4  5809.066058292364;0.0;2496.9582994472266;0.0;5...  transp_obj_glass_cup   \n",
       "\n",
       "                  scene  \n",
       "0  transp_obj_glass_cup  \n",
       "1  transp_obj_glass_cup  \n",
       "2  transp_obj_glass_cup  \n",
       "3  transp_obj_glass_cup  \n",
       "4  transp_obj_glass_cup  "
      ]
     },
     "execution_count": 6,
     "metadata": {},
     "output_type": "execute_result"
    }
   ],
   "source": [
    "train_labels = pd.read_csv(f\"{src}/train/train_labels.csv\")\n",
    "train_labels.head()"
   ]
  },
  {
   "cell_type": "code",
   "execution_count": 7,
   "id": "c98d8965",
   "metadata": {
    "execution": {
     "iopub.execute_input": "2024-05-08T06:29:50.602713Z",
     "iopub.status.busy": "2024-05-08T06:29:50.602345Z",
     "iopub.status.idle": "2024-05-08T06:29:50.626487Z",
     "shell.execute_reply": "2024-05-08T06:29:50.625083Z"
    },
    "papermill": {
     "duration": 0.039863,
     "end_time": "2024-05-08T06:29:50.629190",
     "exception": false,
     "start_time": "2024-05-08T06:29:50.589327",
     "status": "completed"
    },
    "tags": []
   },
   "outputs": [
    {
     "data": {
      "text/html": [
       "<div>\n",
       "<style scoped>\n",
       "    .dataframe tbody tr th:only-of-type {\n",
       "        vertical-align: middle;\n",
       "    }\n",
       "\n",
       "    .dataframe tbody tr th {\n",
       "        vertical-align: top;\n",
       "    }\n",
       "\n",
       "    .dataframe thead th {\n",
       "        text-align: right;\n",
       "    }\n",
       "</style>\n",
       "<table border=\"1\" class=\"dataframe\">\n",
       "  <thead>\n",
       "    <tr style=\"text-align: right;\">\n",
       "      <th></th>\n",
       "      <th>image_name</th>\n",
       "      <th>rotation_matrix</th>\n",
       "      <th>translation_vector</th>\n",
       "      <th>calibration_matrix</th>\n",
       "      <th>dataset</th>\n",
       "      <th>scene</th>\n",
       "    </tr>\n",
       "  </thead>\n",
       "  <tbody>\n",
       "    <tr>\n",
       "      <th>78</th>\n",
       "      <td>temple_of_ba_al_shamin_palmyra_syria.png</td>\n",
       "      <td>0.7114935771373769;-0.05347611479654113;-0.700...</td>\n",
       "      <td>14.93996813428129;0.044689643146197264;-5.6992...</td>\n",
       "      <td>2313.9033196584182;0.0;1018.0;0.0;2313.9033196...</td>\n",
       "      <td>multi-temporal-temple-baalshamin</td>\n",
       "      <td>multi-temporal-temple-baalshamin</td>\n",
       "    </tr>\n",
       "    <tr>\n",
       "      <th>80</th>\n",
       "      <td>temple_of_ba_al_shamin_palmyra_syria.png</td>\n",
       "      <td>0.7114934016547894;-0.05348375371810413;-0.700...</td>\n",
       "      <td>14.939968046303463;0.04504033937958649;-5.6991...</td>\n",
       "      <td>2313.8720456077112;0.0;1018.0;0.0;2313.8720456...</td>\n",
       "      <td>multi-temporal-temple-baalshamin</td>\n",
       "      <td>multi-temporal-temple-baalshamin</td>\n",
       "    </tr>\n",
       "    <tr>\n",
       "      <th>138</th>\n",
       "      <td>temle_ba_al_shamin_4.png</td>\n",
       "      <td>0.7112621344369635;-0.05356735936347312;-0.700...</td>\n",
       "      <td>14.943852334354215;0.11347719974290106;-5.7288...</td>\n",
       "      <td>1161.2690286312848;0.0;512.0;0.0;1161.26902863...</td>\n",
       "      <td>multi-temporal-temple-baalshamin</td>\n",
       "      <td>multi-temporal-temple-baalshamin</td>\n",
       "    </tr>\n",
       "    <tr>\n",
       "      <th>139</th>\n",
       "      <td>temle_ba_al_shamin_4.png</td>\n",
       "      <td>0.7112612857470514;-0.05357269520714103;-0.700...</td>\n",
       "      <td>14.943858001782603;0.1129967939506197;-5.72971...</td>\n",
       "      <td>1161.2852457428498;0.0;512.0;0.0;1161.28524574...</td>\n",
       "      <td>multi-temporal-temple-baalshamin</td>\n",
       "      <td>multi-temporal-temple-baalshamin</td>\n",
       "    </tr>\n",
       "  </tbody>\n",
       "</table>\n",
       "</div>"
      ],
      "text/plain": [
       "                                   image_name  \\\n",
       "78   temple_of_ba_al_shamin_palmyra_syria.png   \n",
       "80   temple_of_ba_al_shamin_palmyra_syria.png   \n",
       "138                  temle_ba_al_shamin_4.png   \n",
       "139                  temle_ba_al_shamin_4.png   \n",
       "\n",
       "                                       rotation_matrix  \\\n",
       "78   0.7114935771373769;-0.05347611479654113;-0.700...   \n",
       "80   0.7114934016547894;-0.05348375371810413;-0.700...   \n",
       "138  0.7112621344369635;-0.05356735936347312;-0.700...   \n",
       "139  0.7112612857470514;-0.05357269520714103;-0.700...   \n",
       "\n",
       "                                    translation_vector  \\\n",
       "78   14.93996813428129;0.044689643146197264;-5.6992...   \n",
       "80   14.939968046303463;0.04504033937958649;-5.6991...   \n",
       "138  14.943852334354215;0.11347719974290106;-5.7288...   \n",
       "139  14.943858001782603;0.1129967939506197;-5.72971...   \n",
       "\n",
       "                                    calibration_matrix  \\\n",
       "78   2313.9033196584182;0.0;1018.0;0.0;2313.9033196...   \n",
       "80   2313.8720456077112;0.0;1018.0;0.0;2313.8720456...   \n",
       "138  1161.2690286312848;0.0;512.0;0.0;1161.26902863...   \n",
       "139  1161.2852457428498;0.0;512.0;0.0;1161.28524574...   \n",
       "\n",
       "                              dataset                             scene  \n",
       "78   multi-temporal-temple-baalshamin  multi-temporal-temple-baalshamin  \n",
       "80   multi-temporal-temple-baalshamin  multi-temporal-temple-baalshamin  \n",
       "138  multi-temporal-temple-baalshamin  multi-temporal-temple-baalshamin  \n",
       "139  multi-temporal-temple-baalshamin  multi-temporal-temple-baalshamin  "
      ]
     },
     "execution_count": 7,
     "metadata": {},
     "output_type": "execute_result"
    }
   ],
   "source": [
    "train_labels[train_labels.duplicated(subset=['image_name','dataset'],keep=False)==True]"
   ]
  },
  {
   "cell_type": "code",
   "execution_count": 8,
   "id": "427fe325",
   "metadata": {
    "execution": {
     "iopub.execute_input": "2024-05-08T06:29:50.651714Z",
     "iopub.status.busy": "2024-05-08T06:29:50.651312Z",
     "iopub.status.idle": "2024-05-08T06:29:50.663897Z",
     "shell.execute_reply": "2024-05-08T06:29:50.662506Z"
    },
    "papermill": {
     "duration": 0.026549,
     "end_time": "2024-05-08T06:29:50.666107",
     "exception": false,
     "start_time": "2024-05-08T06:29:50.639558",
     "status": "completed"
    },
    "tags": []
   },
   "outputs": [
    {
     "data": {
      "text/html": [
       "<div>\n",
       "<style scoped>\n",
       "    .dataframe tbody tr th:only-of-type {\n",
       "        vertical-align: middle;\n",
       "    }\n",
       "\n",
       "    .dataframe tbody tr th {\n",
       "        vertical-align: top;\n",
       "    }\n",
       "\n",
       "    .dataframe thead th {\n",
       "        text-align: right;\n",
       "    }\n",
       "</style>\n",
       "<table border=\"1\" class=\"dataframe\">\n",
       "  <thead>\n",
       "    <tr style=\"text-align: right;\">\n",
       "      <th></th>\n",
       "      <th>image_name</th>\n",
       "      <th>rotation_matrix</th>\n",
       "      <th>translation_vector</th>\n",
       "      <th>calibration_matrix</th>\n",
       "      <th>dataset</th>\n",
       "      <th>scene</th>\n",
       "    </tr>\n",
       "  </thead>\n",
       "  <tbody>\n",
       "  </tbody>\n",
       "</table>\n",
       "</div>"
      ],
      "text/plain": [
       "Empty DataFrame\n",
       "Columns: [image_name, rotation_matrix, translation_vector, calibration_matrix, dataset, scene]\n",
       "Index: []"
      ]
     },
     "execution_count": 8,
     "metadata": {},
     "output_type": "execute_result"
    }
   ],
   "source": [
    "train_labels.drop_duplicates(subset=['image_name','dataset'],inplace=True)\n",
    "train_labels[train_labels.duplicated(subset=['image_name','dataset'],keep=False)==True]"
   ]
  },
  {
   "cell_type": "code",
   "execution_count": 9,
   "id": "a99dae1f",
   "metadata": {
    "execution": {
     "iopub.execute_input": "2024-05-08T06:29:50.687105Z",
     "iopub.status.busy": "2024-05-08T06:29:50.686740Z",
     "iopub.status.idle": "2024-05-08T06:29:50.691517Z",
     "shell.execute_reply": "2024-05-08T06:29:50.690746Z"
    },
    "papermill": {
     "duration": 0.017933,
     "end_time": "2024-05-08T06:29:50.693786",
     "exception": false,
     "start_time": "2024-05-08T06:29:50.675853",
     "status": "completed"
    },
    "tags": []
   },
   "outputs": [],
   "source": [
    "def select_train_labels_and_paths_list_train(dataset: pd.DataFrame, num: int):\n",
    "    train_labels_dataset = train_labels[train_labels.dataset==dataset].reset_index(drop=True)\n",
    "    if num >= 0:\n",
    "        train_labels_dataset = train_labels_dataset[:num]\n",
    "    paths_list_train = src + f\"/train/{dataset}/images/\" + train_labels_dataset[\"image_name\"]\n",
    "    return train_labels_dataset, paths_list_train.reset_index(drop=True)"
   ]
  },
  {
   "cell_type": "code",
   "execution_count": 10,
   "id": "1c366acb",
   "metadata": {
    "execution": {
     "iopub.execute_input": "2024-05-08T06:29:50.716135Z",
     "iopub.status.busy": "2024-05-08T06:29:50.715766Z",
     "iopub.status.idle": "2024-05-08T06:29:50.722747Z",
     "shell.execute_reply": "2024-05-08T06:29:50.721905Z"
    },
    "papermill": {
     "duration": 0.020188,
     "end_time": "2024-05-08T06:29:50.724823",
     "exception": false,
     "start_time": "2024-05-08T06:29:50.704635",
     "status": "completed"
    },
    "tags": []
   },
   "outputs": [
    {
     "name": "stdout",
     "output_type": "stream",
     "text": [
      "0    /kaggle/input/image-matching-challenge-2024/tr...\n",
      "1    /kaggle/input/image-matching-challenge-2024/tr...\n",
      "2    /kaggle/input/image-matching-challenge-2024/tr...\n",
      "3    /kaggle/input/image-matching-challenge-2024/tr...\n",
      "4    /kaggle/input/image-matching-challenge-2024/tr...\n",
      "Name: image_name, dtype: object\n"
     ]
    }
   ],
   "source": [
    "if DEBUG:\n",
    "    dataset = \"church\"\n",
    "    train_labels_dataset, paths_list_train = select_train_labels_and_paths_list_train(dataset, num_images)\n",
    "    print(paths_list_train[:5])"
   ]
  },
  {
   "cell_type": "markdown",
   "id": "49abc9fb",
   "metadata": {
    "papermill": {
     "duration": 0.009321,
     "end_time": "2024-05-08T06:29:50.743811",
     "exception": false,
     "start_time": "2024-05-08T06:29:50.734490",
     "status": "completed"
    },
    "tags": []
   },
   "source": [
    "<a id=\"1\"></a>\n",
    "# 1. Extracting feature points from images"
   ]
  },
  {
   "cell_type": "code",
   "execution_count": 11,
   "id": "55ade91c",
   "metadata": {
    "_kg_hide-input": false,
    "execution": {
     "iopub.execute_input": "2024-05-08T06:29:50.765089Z",
     "iopub.status.busy": "2024-05-08T06:29:50.764762Z",
     "iopub.status.idle": "2024-05-08T06:29:53.390646Z",
     "shell.execute_reply": "2024-05-08T06:29:53.389430Z"
    },
    "papermill": {
     "duration": 2.639537,
     "end_time": "2024-05-08T06:29:53.393123",
     "exception": false,
     "start_time": "2024-05-08T06:29:50.753586",
     "status": "completed"
    },
    "tags": []
   },
   "outputs": [
    {
     "name": "stdout",
     "output_type": "stream",
     "text": [
      "128\n"
     ]
    }
   ],
   "source": [
    "aliked = ALIKED(max_num_keypoints=max_num_keypoints,\n",
    "                detection_threshold=detection_threshold).eval().to(device)\n",
    "sample_image_tensor = load_image(f\"{src}/train/church/images/00001.png\").to(device)\n",
    "sample_descriptor = aliked.extract(sample_image_tensor)[\"descriptors\"][0]\n",
    "desc_cols = []\n",
    "for i in range(sample_descriptor.shape[1]):\n",
    "    exec(f\"desc_cols.append('d{i}')\")\n",
    "print(len(desc_cols))"
   ]
  },
  {
   "cell_type": "code",
   "execution_count": 12,
   "id": "c67561a5",
   "metadata": {
    "execution": {
     "iopub.execute_input": "2024-05-08T06:29:53.415884Z",
     "iopub.status.busy": "2024-05-08T06:29:53.415479Z",
     "iopub.status.idle": "2024-05-08T06:29:53.422979Z",
     "shell.execute_reply": "2024-05-08T06:29:53.421620Z"
    },
    "papermill": {
     "duration": 0.021203,
     "end_time": "2024-05-08T06:29:53.424907",
     "exception": false,
     "start_time": "2024-05-08T06:29:53.403704",
     "status": "completed"
    },
    "tags": []
   },
   "outputs": [],
   "source": [
    "def extract_feature_points(image_paths_list: list[str]):\n",
    "    feature_points = pd.DataFrame(columns=([\"image_name\",'x','y']+desc_cols))\n",
    "    for image_path in image_paths_list:\n",
    "        image_tensor = load_image(image_path).to(device)\n",
    "        features = aliked.extract(image_tensor)\n",
    "        kps, descs = features[\"keypoints\"][0], features[\"descriptors\"][0]\n",
    "        key = image_path.split('/')[-1]\n",
    "        for i in range(len(kps)):\n",
    "            descriptor = descs[i].numpy()\n",
    "            x, y = kps[i].numpy()\n",
    "            feature_points.loc[len(feature_points)] = [key, x, y] + list(descriptor)\n",
    "    return feature_points"
   ]
  },
  {
   "cell_type": "code",
   "execution_count": 13,
   "id": "7ebe1c53",
   "metadata": {
    "execution": {
     "iopub.execute_input": "2024-05-08T06:29:53.446770Z",
     "iopub.status.busy": "2024-05-08T06:29:53.446321Z",
     "iopub.status.idle": "2024-05-08T06:33:20.956744Z",
     "shell.execute_reply": "2024-05-08T06:33:20.955828Z"
    },
    "papermill": {
     "duration": 207.533687,
     "end_time": "2024-05-08T06:33:20.968599",
     "exception": false,
     "start_time": "2024-05-08T06:29:53.434912",
     "status": "completed"
    },
    "tags": []
   },
   "outputs": [
    {
     "name": "stdout",
     "output_type": "stream",
     "text": [
      "  image_name           x           y        d0        d1        d2        d3  \\\n",
      "0  00059.png  531.716431  922.298340  0.101092  0.028985 -0.090774 -0.024348   \n",
      "1  00059.png  563.904480  671.416321  0.000683  0.139939  0.048172 -0.021533   \n",
      "2  00059.png  301.756012  365.777069  0.059662 -0.052278 -0.086119 -0.040956   \n",
      "3  00059.png  308.642822  517.398926  0.059744 -0.080715 -0.110325 -0.052176   \n",
      "4  00059.png  306.659241  477.777802  0.023712 -0.051453 -0.055371 -0.003278   \n",
      "\n",
      "         d4        d5        d6  ...      d118      d119      d120      d121  \\\n",
      "0 -0.019952 -0.083935 -0.142644  ...  0.061926 -0.006792 -0.108350  0.128955   \n",
      "1  0.028746  0.037736  0.014434  ...  0.043479 -0.099699 -0.231389  0.035314   \n",
      "2  0.106852 -0.035535  0.051358  ... -0.044565 -0.153991 -0.032326  0.014585   \n",
      "3  0.060690 -0.031954  0.214789  ...  0.009951 -0.103726  0.019104  0.152288   \n",
      "4  0.076149 -0.087739  0.110974  ... -0.021927 -0.135376 -0.016831  0.130096   \n",
      "\n",
      "       d122      d123      d124      d125      d126      d127  \n",
      "0  0.016635  0.102934  0.032979  0.052368  0.082107  0.069863  \n",
      "1 -0.156107  0.054624  0.012444 -0.117540  0.061509  0.120636  \n",
      "2 -0.053627 -0.155397 -0.087971  0.089343  0.030397 -0.030281  \n",
      "3 -0.031598 -0.225481 -0.049307 -0.049711 -0.085605  0.053907  \n",
      "4 -0.021492 -0.236327  0.003569  0.088844 -0.088192  0.006878  \n",
      "\n",
      "[5 rows x 131 columns]\n",
      "5120\n"
     ]
    }
   ],
   "source": [
    "if DEBUG:\n",
    "    feature_points_train = extract_feature_points(paths_list_train)[:num_feature_points]\n",
    "    print(feature_points_train.head())\n",
    "    print(len(feature_points_train))"
   ]
  },
  {
   "cell_type": "markdown",
   "id": "2f23efc1",
   "metadata": {
    "papermill": {
     "duration": 0.009511,
     "end_time": "2024-05-08T06:33:20.987967",
     "exception": false,
     "start_time": "2024-05-08T06:33:20.978456",
     "status": "completed"
    },
    "tags": []
   },
   "source": [
    "<a id=\"2\"></a>\n",
    "# 2. Clustering"
   ]
  },
  {
   "cell_type": "code",
   "execution_count": 14,
   "id": "b8ff3a4f",
   "metadata": {
    "execution": {
     "iopub.execute_input": "2024-05-08T06:33:21.011395Z",
     "iopub.status.busy": "2024-05-08T06:33:21.009986Z",
     "iopub.status.idle": "2024-05-08T06:33:21.030924Z",
     "shell.execute_reply": "2024-05-08T06:33:21.030225Z"
    },
    "papermill": {
     "duration": 0.034784,
     "end_time": "2024-05-08T06:33:21.032730",
     "exception": false,
     "start_time": "2024-05-08T06:33:20.997946",
     "status": "completed"
    },
    "tags": []
   },
   "outputs": [
    {
     "name": "stdout",
     "output_type": "stream",
     "text": [
      "         d0        d1        d2        d3        d4        d5        d6  \\\n",
      "0  0.101092  0.028985 -0.090774 -0.024348 -0.019952 -0.083935 -0.142644   \n",
      "1  0.000683  0.139939  0.048172 -0.021533  0.028746  0.037736  0.014434   \n",
      "2  0.059662 -0.052278 -0.086119 -0.040956  0.106852 -0.035535  0.051358   \n",
      "3  0.059744 -0.080715 -0.110325 -0.052176  0.060690 -0.031954  0.214789   \n",
      "4  0.023712 -0.051453 -0.055371 -0.003278  0.076149 -0.087739  0.110974   \n",
      "\n",
      "         d7        d8        d9  ...      d118      d119      d120      d121  \\\n",
      "0 -0.098850 -0.056036 -0.007138  ...  0.061926 -0.006792 -0.108350  0.128955   \n",
      "1  0.119464  0.010227 -0.096795  ...  0.043479 -0.099699 -0.231389  0.035314   \n",
      "2 -0.094563 -0.107459  0.018058  ... -0.044565 -0.153991 -0.032326  0.014585   \n",
      "3 -0.160154 -0.072405  0.021935  ...  0.009951 -0.103726  0.019104  0.152288   \n",
      "4 -0.084266 -0.097427  0.022776  ... -0.021927 -0.135376 -0.016831  0.130096   \n",
      "\n",
      "       d122      d123      d124      d125      d126      d127  \n",
      "0  0.016635  0.102934  0.032979  0.052368  0.082107  0.069863  \n",
      "1 -0.156107  0.054624  0.012444 -0.117540  0.061509  0.120636  \n",
      "2 -0.053627 -0.155397 -0.087971  0.089343  0.030397 -0.030281  \n",
      "3 -0.031598 -0.225481 -0.049307 -0.049711 -0.085605  0.053907  \n",
      "4 -0.021492 -0.236327  0.003569  0.088844 -0.088192  0.006878  \n",
      "\n",
      "[5 rows x 128 columns]\n"
     ]
    }
   ],
   "source": [
    "if DEBUG:\n",
    "    X = feature_points_train.iloc[:,3:]\n",
    "    print(X.head())"
   ]
  },
  {
   "cell_type": "code",
   "execution_count": 15,
   "id": "d3cda265",
   "metadata": {
    "execution": {
     "iopub.execute_input": "2024-05-08T06:33:21.055018Z",
     "iopub.status.busy": "2024-05-08T06:33:21.054449Z",
     "iopub.status.idle": "2024-05-08T06:33:21.060012Z",
     "shell.execute_reply": "2024-05-08T06:33:21.058843Z"
    },
    "papermill": {
     "duration": 0.019393,
     "end_time": "2024-05-08T06:33:21.062153",
     "exception": false,
     "start_time": "2024-05-08T06:33:21.042760",
     "status": "completed"
    },
    "tags": []
   },
   "outputs": [],
   "source": [
    "main_clusterizer = KMeans(n_clusters=n_clusters,\n",
    "                          random_state=random_state,\n",
    "                          n_init=main_n_init)"
   ]
  },
  {
   "cell_type": "code",
   "execution_count": 16,
   "id": "79a8c4b8",
   "metadata": {
    "execution": {
     "iopub.execute_input": "2024-05-08T06:33:21.086153Z",
     "iopub.status.busy": "2024-05-08T06:33:21.085609Z",
     "iopub.status.idle": "2024-05-08T06:33:21.090315Z",
     "shell.execute_reply": "2024-05-08T06:33:21.089156Z"
    },
    "papermill": {
     "duration": 0.020334,
     "end_time": "2024-05-08T06:33:21.092715",
     "exception": false,
     "start_time": "2024-05-08T06:33:21.072381",
     "status": "completed"
    },
    "tags": []
   },
   "outputs": [],
   "source": [
    "def clustering_train(feature_points_train: pd.DataFrame):\n",
    "    X = feature_points_train.iloc[:,3:]\n",
    "    main_clusterizer.fit(X)\n",
    "    labels = main_clusterizer.labels_\n",
    "    feature_points_train[\"cluster\"] = labels\n",
    "    return feature_points_train"
   ]
  },
  {
   "cell_type": "code",
   "execution_count": 17,
   "id": "29b9d904",
   "metadata": {
    "execution": {
     "iopub.execute_input": "2024-05-08T06:33:21.115484Z",
     "iopub.status.busy": "2024-05-08T06:33:21.114942Z",
     "iopub.status.idle": "2024-05-08T06:33:27.711366Z",
     "shell.execute_reply": "2024-05-08T06:33:27.710470Z"
    },
    "papermill": {
     "duration": 6.610883,
     "end_time": "2024-05-08T06:33:27.714052",
     "exception": false,
     "start_time": "2024-05-08T06:33:21.103169",
     "status": "completed"
    },
    "tags": []
   },
   "outputs": [
    {
     "name": "stdout",
     "output_type": "stream",
     "text": [
      "  image_name           x           y        d0        d1        d2        d3  \\\n",
      "0  00059.png  531.716431  922.298340  0.101092  0.028985 -0.090774 -0.024348   \n",
      "1  00059.png  563.904480  671.416321  0.000683  0.139939  0.048172 -0.021533   \n",
      "2  00059.png  301.756012  365.777069  0.059662 -0.052278 -0.086119 -0.040956   \n",
      "3  00059.png  308.642822  517.398926  0.059744 -0.080715 -0.110325 -0.052176   \n",
      "4  00059.png  306.659241  477.777802  0.023712 -0.051453 -0.055371 -0.003278   \n",
      "\n",
      "         d4        d5        d6  ...      d119      d120      d121      d122  \\\n",
      "0 -0.019952 -0.083935 -0.142644  ... -0.006792 -0.108350  0.128955  0.016635   \n",
      "1  0.028746  0.037736  0.014434  ... -0.099699 -0.231389  0.035314 -0.156107   \n",
      "2  0.106852 -0.035535  0.051358  ... -0.153991 -0.032326  0.014585 -0.053627   \n",
      "3  0.060690 -0.031954  0.214789  ... -0.103726  0.019104  0.152288 -0.031598   \n",
      "4  0.076149 -0.087739  0.110974  ... -0.135376 -0.016831  0.130096 -0.021492   \n",
      "\n",
      "       d123      d124      d125      d126      d127  cluster  \n",
      "0  0.102934  0.032979  0.052368  0.082107  0.069863       14  \n",
      "1  0.054624  0.012444 -0.117540  0.061509  0.120636      340  \n",
      "2 -0.155397 -0.087971  0.089343  0.030397 -0.030281      435  \n",
      "3 -0.225481 -0.049307 -0.049711 -0.085605  0.053907      435  \n",
      "4 -0.236327  0.003569  0.088844 -0.088192  0.006878      435  \n",
      "\n",
      "[5 rows x 132 columns]\n",
      "512\n"
     ]
    },
    {
     "name": "stderr",
     "output_type": "stream",
     "text": [
      "/tmp/ipykernel_18/2099224098.py:5: PerformanceWarning: DataFrame is highly fragmented.  This is usually the result of calling `frame.insert` many times, which has poor performance.  Consider joining all columns at once using pd.concat(axis=1) instead. To get a de-fragmented frame, use `newframe = frame.copy()`\n",
      "  feature_points_train[\"cluster\"] = labels\n"
     ]
    }
   ],
   "source": [
    "if DEBUG:\n",
    "    feature_points_train = clustering_train(feature_points_train)\n",
    "    print(feature_points_train.head())\n",
    "    print(len(feature_points_train.cluster.unique()))"
   ]
  },
  {
   "cell_type": "markdown",
   "id": "1b360569",
   "metadata": {
    "papermill": {
     "duration": 0.009729,
     "end_time": "2024-05-08T06:33:27.733868",
     "exception": false,
     "start_time": "2024-05-08T06:33:27.724139",
     "status": "completed"
    },
    "tags": []
   },
   "source": [
    "<a id=\"3\"></a>\n",
    "# 3. RANSAC"
   ]
  },
  {
   "cell_type": "code",
   "execution_count": 18,
   "id": "1ac44d7b",
   "metadata": {
    "execution": {
     "iopub.execute_input": "2024-05-08T06:33:27.810780Z",
     "iopub.status.busy": "2024-05-08T06:33:27.810398Z",
     "iopub.status.idle": "2024-05-08T06:33:27.820623Z",
     "shell.execute_reply": "2024-05-08T06:33:27.818780Z"
    },
    "papermill": {
     "duration": 0.024125,
     "end_time": "2024-05-08T06:33:27.823140",
     "exception": false,
     "start_time": "2024-05-08T06:33:27.799015",
     "status": "completed"
    },
    "tags": []
   },
   "outputs": [],
   "source": [
    "def RANSAC(feature_points: pd.DataFrame,\n",
    "           num_semi_rep_points: int,\n",
    "           random_state: int,\n",
    "           n_init: int,\n",
    "           num_rep_points: int):\n",
    "    rep_feature_points_indices = []\n",
    "    exception = 0\n",
    "    for cluster in feature_points.cluster.unique():\n",
    "        all_feature_points_cluster = feature_points[feature_points.cluster==cluster]\n",
    "        X_cluster = all_feature_points_cluster.iloc[:,3:-1]\n",
    "        sub_clusterizer = KMeans(n_clusters=num_semi_rep_points,\n",
    "                                 random_state=random_state,\n",
    "                                 n_init=n_init)\n",
    "        try:\n",
    "            sub_clusterizer.fit(X_cluster)\n",
    "        except Exception:\n",
    "            exception += 1\n",
    "            continue\n",
    "        centroids = sub_clusterizer.cluster_centers_\n",
    "        idx_of_idx = all_feature_points_cluster.index\n",
    "        dist_sums = []\n",
    "        centroid_indices = []\n",
    "        for centroid in centroids:\n",
    "            dist_sum = 0\n",
    "            dists = []\n",
    "            for _, x in X_cluster.iterrows():\n",
    "                dist = np.linalg.norm(x-centroid)\n",
    "                dist_sum += dist\n",
    "                dists.append(dist)\n",
    "            dist_sums.append(dist_sum)\n",
    "            centroid_index = idx_of_idx[np.argsort(dists)[0]]\n",
    "            centroid_indices.append(centroid_index)\n",
    "        for index in np.argsort(dist_sums)[:num_rep_points]:\n",
    "            rep_feature_points_indices.append(centroid_indices[index])\n",
    "    print(\"num of Exception :\", exception)\n",
    "    return rep_feature_points_indices"
   ]
  },
  {
   "cell_type": "code",
   "execution_count": 19,
   "id": "fcc043f3",
   "metadata": {
    "execution": {
     "iopub.execute_input": "2024-05-08T06:33:27.848476Z",
     "iopub.status.busy": "2024-05-08T06:33:27.848135Z",
     "iopub.status.idle": "2024-05-08T06:33:39.526757Z",
     "shell.execute_reply": "2024-05-08T06:33:39.525382Z"
    },
    "papermill": {
     "duration": 11.694863,
     "end_time": "2024-05-08T06:33:39.528913",
     "exception": false,
     "start_time": "2024-05-08T06:33:27.834050",
     "status": "completed"
    },
    "tags": []
   },
   "outputs": [
    {
     "name": "stdout",
     "output_type": "stream",
     "text": [
      "num of Exception : 27\n",
      "     image_name           x           y        d0        d1        d2  \\\n",
      "4081  00044.png  530.362549  578.031921 -0.008815  0.046026 -0.040401   \n",
      "4848  00041.png  398.476685  395.010803  0.034483  0.070868 -0.123909   \n",
      "5036  00040.png  703.884399  409.047913  0.022461  0.060939 -0.005260   \n",
      "1     00059.png  563.904480  671.416321  0.000683  0.139939  0.048172   \n",
      "21    00059.png  563.452393  642.061462  0.050543 -0.061615 -0.001332   \n",
      "\n",
      "            d3        d4        d5        d6  ...      d119      d120  \\\n",
      "4081  0.000925 -0.047770  0.030247 -0.088770  ...  0.116644 -0.167062   \n",
      "4848 -0.111713  0.035571  0.026925  0.013766  ...  0.016499  0.017253   \n",
      "5036 -0.040719 -0.112737  0.105812 -0.055025  ... -0.006636 -0.095534   \n",
      "1    -0.021533  0.028746  0.037736  0.014434  ... -0.099699 -0.231389   \n",
      "21    0.003206 -0.126384  0.022914  0.120755  ... -0.079372 -0.196310   \n",
      "\n",
      "          d121      d122      d123      d124      d125      d126      d127  \\\n",
      "4081  0.063343  0.159298  0.007495  0.053135 -0.022807  0.243862  0.090758   \n",
      "4848  0.015378  0.095527  0.153121 -0.148445 -0.050291  0.180714  0.143793   \n",
      "5036  0.053729 -0.079293  0.006550  0.022139 -0.042419  0.187258  0.050010   \n",
      "1     0.035314 -0.156107  0.054624  0.012444 -0.117540  0.061509  0.120636   \n",
      "21    0.108742 -0.025354 -0.129711 -0.099682 -0.095978  0.055825  0.071217   \n",
      "\n",
      "      cluster  \n",
      "4081       14  \n",
      "4848       14  \n",
      "5036       14  \n",
      "1         340  \n",
      "21        340  \n",
      "\n",
      "[5 rows x 132 columns]\n",
      "1455\n"
     ]
    }
   ],
   "source": [
    "if DEBUG:\n",
    "    rep_feature_points_indices = RANSAC(feature_points_train,\n",
    "                                        num_semi_rep_points_train,\n",
    "                                        random_state,\n",
    "                                        sub_n_init,\n",
    "                                        num_rep_points_train)\n",
    "    rep_feature_points_train = feature_points_train.iloc[rep_feature_points_indices]\n",
    "    print(rep_feature_points_train.head())\n",
    "    print(len(rep_feature_points_train))"
   ]
  },
  {
   "cell_type": "markdown",
   "id": "3a3f1bb9",
   "metadata": {
    "papermill": {
     "duration": 0.00997,
     "end_time": "2024-05-08T06:33:39.549257",
     "exception": false,
     "start_time": "2024-05-08T06:33:39.539287",
     "status": "completed"
    },
    "tags": []
   },
   "source": [
    "<a id=\"4\"></a>\n",
    "# 4. Mapping fps into the 3D model"
   ]
  },
  {
   "cell_type": "code",
   "execution_count": 20,
   "id": "835c1141",
   "metadata": {
    "execution": {
     "iopub.execute_input": "2024-05-08T06:33:39.571483Z",
     "iopub.status.busy": "2024-05-08T06:33:39.571133Z",
     "iopub.status.idle": "2024-05-08T06:33:39.578281Z",
     "shell.execute_reply": "2024-05-08T06:33:39.577096Z"
    },
    "papermill": {
     "duration": 0.020662,
     "end_time": "2024-05-08T06:33:39.580291",
     "exception": false,
     "start_time": "2024-05-08T06:33:39.559629",
     "status": "completed"
    },
    "tags": []
   },
   "outputs": [],
   "source": [
    "def load_projection_matrices(rep_feature_points_train: pd.DataFrame, cluster: int):\n",
    "    rep_feature_points_train_cluster = rep_feature_points_train[rep_feature_points_train.cluster==cluster]\n",
    "    projection_matrices_train = []\n",
    "    for _, row in rep_feature_points_train_cluster.iterrows():\n",
    "        image_name = row.iloc[0]\n",
    "        matrices_row = train_labels_dataset[train_labels_dataset.image_name==image_name]\n",
    "        rotation_matrix = str_to_arr(matrices_row.rotation_matrix.values[0], (3,3))\n",
    "        translation_vector = str_to_arr(matrices_row.translation_vector.values[0], (3,1))\n",
    "        calibration_matrix = str_to_arr(matrices_row.calibration_matrix.values[0], (3,3))\n",
    "        if np.linalg.det(calibration_matrix) == 0:\n",
    "            calibration_matrix = np.eye(3)\n",
    "        projection_matrix_train = np.dot(calibration_matrix, np.hstack((rotation_matrix, translation_vector)))\n",
    "        projection_matrices_train.append(projection_matrix_train)\n",
    "    return projection_matrices_train"
   ]
  },
  {
   "cell_type": "code",
   "execution_count": 21,
   "id": "b224725c",
   "metadata": {
    "execution": {
     "iopub.execute_input": "2024-05-08T06:33:39.603124Z",
     "iopub.status.busy": "2024-05-08T06:33:39.602741Z",
     "iopub.status.idle": "2024-05-08T06:33:39.608345Z",
     "shell.execute_reply": "2024-05-08T06:33:39.607271Z"
    },
    "papermill": {
     "duration": 0.019549,
     "end_time": "2024-05-08T06:33:39.610452",
     "exception": false,
     "start_time": "2024-05-08T06:33:39.590903",
     "status": "completed"
    },
    "tags": []
   },
   "outputs": [],
   "source": [
    "def rep_descriptor(rep_feature_points: pd.DataFrame, cluster: int):\n",
    "    rep_feature_points_cluster = rep_feature_points[rep_feature_points.cluster==cluster]\n",
    "    return rep_feature_points_cluster.iloc[:,3:-1].mean()"
   ]
  },
  {
   "cell_type": "code",
   "execution_count": 22,
   "id": "f0f34688",
   "metadata": {
    "execution": {
     "iopub.execute_input": "2024-05-08T06:33:39.633889Z",
     "iopub.status.busy": "2024-05-08T06:33:39.633499Z",
     "iopub.status.idle": "2024-05-08T06:33:39.638571Z",
     "shell.execute_reply": "2024-05-08T06:33:39.637330Z"
    },
    "papermill": {
     "duration": 0.019848,
     "end_time": "2024-05-08T06:33:39.640860",
     "exception": false,
     "start_time": "2024-05-08T06:33:39.621012",
     "status": "completed"
    },
    "tags": []
   },
   "outputs": [],
   "source": [
    "weights = []"
   ]
  },
  {
   "cell_type": "code",
   "execution_count": 23,
   "id": "e47ad159",
   "metadata": {
    "execution": {
     "iopub.execute_input": "2024-05-08T06:33:39.664098Z",
     "iopub.status.busy": "2024-05-08T06:33:39.663753Z",
     "iopub.status.idle": "2024-05-08T06:33:39.671499Z",
     "shell.execute_reply": "2024-05-08T06:33:39.670103Z"
    },
    "papermill": {
     "duration": 0.021965,
     "end_time": "2024-05-08T06:33:39.673568",
     "exception": false,
     "start_time": "2024-05-08T06:33:39.651603",
     "status": "completed"
    },
    "tags": []
   },
   "outputs": [],
   "source": [
    "def create_train_set(projection_matrices_train: list, num_train: int):\n",
    "    train_set_cols = []\n",
    "    for i in range(len(projection_matrices_train)):\n",
    "        exec(f\"train_set_cols += ['x{i}','y{i}']\")\n",
    "    train_2D_vector_sets = pd.DataFrame(columns=train_set_cols)\n",
    "    train_3D_vectors = np.hstack((100*np.random.rand(num_train,3),np.ones((num_train,1))))\n",
    "    for y_vector in train_3D_vectors:\n",
    "        X_vector = []\n",
    "        for projection_matrix_train in projection_matrices_train:\n",
    "            x, y, w = np.dot(projection_matrix_train, y_vector.T).T\n",
    "            X_vector += [x/w, y/w]\n",
    "            weights.append(w)\n",
    "        train_2D_vector_sets.loc[len(train_2D_vector_sets)] = X_vector\n",
    "    return train_2D_vector_sets, train_3D_vectors, weights"
   ]
  },
  {
   "cell_type": "code",
   "execution_count": 24,
   "id": "5edb43e1",
   "metadata": {
    "execution": {
     "iopub.execute_input": "2024-05-08T06:33:39.695561Z",
     "iopub.status.busy": "2024-05-08T06:33:39.695208Z",
     "iopub.status.idle": "2024-05-08T06:33:39.701046Z",
     "shell.execute_reply": "2024-05-08T06:33:39.700131Z"
    },
    "papermill": {
     "duration": 0.018817,
     "end_time": "2024-05-08T06:33:39.702701",
     "exception": false,
     "start_time": "2024-05-08T06:33:39.683884",
     "status": "completed"
    },
    "tags": []
   },
   "outputs": [],
   "source": [
    "def get_3D_coordinates(test_X, projection_matrices_train: list[np.array]):\n",
    "    train_X, train_y, weights = create_train_set(projection_matrices_train, num_train)\n",
    "    linear_model = LinearRegression(fit_intercept=False)\n",
    "    linear_model.fit(train_X, train_y)\n",
    "    x, y, z, _ = linear_model.predict(test_X)[0]\n",
    "    return cluster, x, y, z"
   ]
  },
  {
   "cell_type": "code",
   "execution_count": 25,
   "id": "687da485",
   "metadata": {
    "_kg_hide-output": true,
    "execution": {
     "iopub.execute_input": "2024-05-08T06:33:39.725086Z",
     "iopub.status.busy": "2024-05-08T06:33:39.724729Z",
     "iopub.status.idle": "2024-05-08T06:43:09.833384Z",
     "shell.execute_reply": "2024-05-08T06:43:09.832785Z"
    },
    "papermill": {
     "duration": 570.135618,
     "end_time": "2024-05-08T06:43:09.848589",
     "exception": false,
     "start_time": "2024-05-08T06:33:39.712971",
     "status": "completed"
    },
    "tags": []
   },
   "outputs": [
    {
     "name": "stdout",
     "output_type": "stream",
     "text": [
      "   cluster          x          y         z\n",
      "0     14.0  43.301679   7.476143  3.281653\n",
      "1    340.0   3.039612   1.127877  0.205649\n",
      "2    435.0   0.165227   0.121317  0.081439\n",
      "3    454.0   3.936379   1.894957  0.980333\n",
      "4    166.0  39.730419  17.363583  9.693573\n"
     ]
    }
   ],
   "source": [
    "if DEBUG:\n",
    "    model = pd.DataFrame(columns=([\"cluster\",'x','y','z']))\n",
    "    warnings.filterwarnings(\"ignore\")\n",
    "    for cluster in rep_feature_points_train.cluster.unique():\n",
    "        test_X = rep_feature_points_train[rep_feature_points_train.cluster==cluster].iloc[:,1:3].values.reshape((1,-1))\n",
    "        projection_matrices_train = load_projection_matrices(rep_feature_points_train, cluster)\n",
    "        model.loc[len(model)] = get_3D_coordinates(test_X, projection_matrices_train)\n",
    "    print(model.head())"
   ]
  },
  {
   "cell_type": "markdown",
   "id": "32300abc",
   "metadata": {
    "_kg_hide-input": true,
    "papermill": {
     "duration": 0.013075,
     "end_time": "2024-05-08T06:43:09.875504",
     "exception": false,
     "start_time": "2024-05-08T06:43:09.862429",
     "status": "completed"
    },
    "tags": []
   },
   "source": [
    "# (hidden)Preparing Submission"
   ]
  },
  {
   "cell_type": "code",
   "execution_count": 26,
   "id": "5ac71eac",
   "metadata": {
    "_kg_hide-input": true,
    "_kg_hide-output": true,
    "execution": {
     "iopub.execute_input": "2024-05-08T06:43:09.898435Z",
     "iopub.status.busy": "2024-05-08T06:43:09.897690Z",
     "iopub.status.idle": "2024-05-08T06:43:09.928446Z",
     "shell.execute_reply": "2024-05-08T06:43:09.927305Z"
    },
    "papermill": {
     "duration": 0.044691,
     "end_time": "2024-05-08T06:43:09.930613",
     "exception": false,
     "start_time": "2024-05-08T06:43:09.885922",
     "status": "completed"
    },
    "tags": []
   },
   "outputs": [
    {
     "data": {
      "text/html": [
       "<div>\n",
       "<style scoped>\n",
       "    .dataframe tbody tr th:only-of-type {\n",
       "        vertical-align: middle;\n",
       "    }\n",
       "\n",
       "    .dataframe tbody tr th {\n",
       "        vertical-align: top;\n",
       "    }\n",
       "\n",
       "    .dataframe thead th {\n",
       "        text-align: right;\n",
       "    }\n",
       "</style>\n",
       "<table border=\"1\" class=\"dataframe\">\n",
       "  <thead>\n",
       "    <tr style=\"text-align: right;\">\n",
       "      <th></th>\n",
       "      <th>image_path</th>\n",
       "      <th>dataset</th>\n",
       "      <th>scene</th>\n",
       "      <th>rotation_matrix</th>\n",
       "      <th>translation_vector</th>\n",
       "    </tr>\n",
       "  </thead>\n",
       "  <tbody>\n",
       "    <tr>\n",
       "      <th>0</th>\n",
       "      <td>test/church/images/00046.png</td>\n",
       "      <td>church</td>\n",
       "      <td>church</td>\n",
       "      <td>0.9711190310868889;0.8911359604510818;0.532623...</td>\n",
       "      <td>0.11313904678659892;0.8432251602872274;0.42609...</td>\n",
       "    </tr>\n",
       "    <tr>\n",
       "      <th>1</th>\n",
       "      <td>test/church/images/00090.png</td>\n",
       "      <td>church</td>\n",
       "      <td>church</td>\n",
       "      <td>0.20360069697426775;0.6504946118853364;0.86491...</td>\n",
       "      <td>0.680480221630539;0.8028143635199276;0.5028546...</td>\n",
       "    </tr>\n",
       "    <tr>\n",
       "      <th>2</th>\n",
       "      <td>test/church/images/00092.png</td>\n",
       "      <td>church</td>\n",
       "      <td>church</td>\n",
       "      <td>0.831738872848693;0.5821652805589269;0.6032012...</td>\n",
       "      <td>0.16253346680799086;0.2541505473736173;0.87383...</td>\n",
       "    </tr>\n",
       "    <tr>\n",
       "      <th>3</th>\n",
       "      <td>test/church/images/00087.png</td>\n",
       "      <td>church</td>\n",
       "      <td>church</td>\n",
       "      <td>0.1604600521094205;0.6489370807852337;0.721831...</td>\n",
       "      <td>0.2161246142041484;0.9530634517785977;0.449099...</td>\n",
       "    </tr>\n",
       "    <tr>\n",
       "      <th>4</th>\n",
       "      <td>test/church/images/00050.png</td>\n",
       "      <td>church</td>\n",
       "      <td>church</td>\n",
       "      <td>0.38660496248295817;0.4015767283826711;0.92385...</td>\n",
       "      <td>0.16786019693458032;0.8533039000844846;0.96215...</td>\n",
       "    </tr>\n",
       "  </tbody>\n",
       "</table>\n",
       "</div>"
      ],
      "text/plain": [
       "                     image_path dataset   scene  \\\n",
       "0  test/church/images/00046.png  church  church   \n",
       "1  test/church/images/00090.png  church  church   \n",
       "2  test/church/images/00092.png  church  church   \n",
       "3  test/church/images/00087.png  church  church   \n",
       "4  test/church/images/00050.png  church  church   \n",
       "\n",
       "                                     rotation_matrix  \\\n",
       "0  0.9711190310868889;0.8911359604510818;0.532623...   \n",
       "1  0.20360069697426775;0.6504946118853364;0.86491...   \n",
       "2  0.831738872848693;0.5821652805589269;0.6032012...   \n",
       "3  0.1604600521094205;0.6489370807852337;0.721831...   \n",
       "4  0.38660496248295817;0.4015767283826711;0.92385...   \n",
       "\n",
       "                                  translation_vector  \n",
       "0  0.11313904678659892;0.8432251602872274;0.42609...  \n",
       "1  0.680480221630539;0.8028143635199276;0.5028546...  \n",
       "2  0.16253346680799086;0.2541505473736173;0.87383...  \n",
       "3  0.2161246142041484;0.9530634517785977;0.449099...  \n",
       "4  0.16786019693458032;0.8533039000844846;0.96215...  "
      ]
     },
     "execution_count": 26,
     "metadata": {},
     "output_type": "execute_result"
    }
   ],
   "source": [
    "sample_submission = pd.read_csv(f\"{src}/sample_submission.csv\")\n",
    "sample_submission.head()"
   ]
  },
  {
   "cell_type": "code",
   "execution_count": 27,
   "id": "c6145bd7",
   "metadata": {
    "_kg_hide-input": true,
    "execution": {
     "iopub.execute_input": "2024-05-08T06:43:09.953114Z",
     "iopub.status.busy": "2024-05-08T06:43:09.952747Z",
     "iopub.status.idle": "2024-05-08T06:43:09.959375Z",
     "shell.execute_reply": "2024-05-08T06:43:09.958290Z"
    },
    "papermill": {
     "duration": 0.020045,
     "end_time": "2024-05-08T06:43:09.961260",
     "exception": false,
     "start_time": "2024-05-08T06:43:09.941215",
     "status": "completed"
    },
    "tags": []
   },
   "outputs": [],
   "source": [
    "def parse_sample_submission():\n",
    "    data_dict = {}\n",
    "    sample_submission = pd.read_csv(f\"{src}/sample_submission.csv\")\n",
    "    header = sample_submission.columns\n",
    "    print(f\"header: {header}\")\n",
    "    for i, l in sample_submission.iterrows():\n",
    "        image_path, dataset, scene, _, _ = l\n",
    "        if dataset not in data_dict:\n",
    "            data_dict[dataset] = []\n",
    "        data_dict[dataset].append(f\"{src}/{image_path}\")\n",
    "    for dataset in data_dict:\n",
    "        print(f\"{dataset} -> {len(data_dict[dataset])} images\")\n",
    "    return data_dict, header"
   ]
  },
  {
   "cell_type": "markdown",
   "id": "c02f3190",
   "metadata": {
    "papermill": {
     "duration": 0.010425,
     "end_time": "2024-05-08T06:43:09.982551",
     "exception": false,
     "start_time": "2024-05-08T06:43:09.972126",
     "status": "completed"
    },
    "tags": []
   },
   "source": [
    "<a id=\"5\"></a>\n",
    "# 5. Calculating projection matrices"
   ]
  },
  {
   "cell_type": "code",
   "execution_count": 28,
   "id": "72c6f250",
   "metadata": {
    "execution": {
     "iopub.execute_input": "2024-05-08T06:43:10.005133Z",
     "iopub.status.busy": "2024-05-08T06:43:10.004517Z",
     "iopub.status.idle": "2024-05-08T06:43:10.010298Z",
     "shell.execute_reply": "2024-05-08T06:43:10.009088Z"
    },
    "papermill": {
     "duration": 0.019811,
     "end_time": "2024-05-08T06:43:10.012747",
     "exception": false,
     "start_time": "2024-05-08T06:43:09.992936",
     "status": "completed"
    },
    "tags": []
   },
   "outputs": [],
   "source": [
    "def clustering_test(feature_points_test: pd.DataFrame):\n",
    "    X = feature_points_test.iloc[:,3:]\n",
    "    labels = main_clusterizer.predict(X)\n",
    "    feature_points_test[\"cluster\"] = labels\n",
    "    return feature_points_test"
   ]
  },
  {
   "cell_type": "code",
   "execution_count": 29,
   "id": "fccd4dc5",
   "metadata": {
    "execution": {
     "iopub.execute_input": "2024-05-08T06:43:10.037115Z",
     "iopub.status.busy": "2024-05-08T06:43:10.035867Z",
     "iopub.status.idle": "2024-05-08T06:46:03.980092Z",
     "shell.execute_reply": "2024-05-08T06:46:03.978947Z"
    },
    "papermill": {
     "duration": 173.96846,
     "end_time": "2024-05-08T06:46:03.992259",
     "exception": false,
     "start_time": "2024-05-08T06:43:10.023799",
     "status": "completed"
    },
    "tags": []
   },
   "outputs": [
    {
     "name": "stdout",
     "output_type": "stream",
     "text": [
      "header: Index(['image_path', 'dataset', 'scene', 'rotation_matrix',\n",
      "       'translation_vector'],\n",
      "      dtype='object')\n",
      "church -> 41 images\n",
      "num of Exception : 134\n",
      "     image_name           x           y        d0        d1        d2  \\\n",
      "0     00046.png  304.146667  554.505737 -0.049578 -0.226732 -0.081279   \n",
      "4560  00008.png  603.916870  358.267273  0.014216  0.015977 -0.131726   \n",
      "3453  00024.png  669.453613  394.991791  0.078373 -0.054839  0.004154   \n",
      "2463  00081.png  239.017563  247.155716 -0.070351 -0.104196 -0.101436   \n",
      "1     00046.png  516.795959  105.586243 -0.051849 -0.079518 -0.308859   \n",
      "\n",
      "            d3        d4        d5        d6  ...      d119      d120  \\\n",
      "0     0.135531 -0.098278 -0.024081  0.010061  ...  0.000400 -0.025382   \n",
      "4560  0.131950 -0.012961 -0.006080 -0.010256  ...  0.007103 -0.010005   \n",
      "3453  0.096712 -0.060796 -0.142891 -0.065903  ...  0.135146 -0.116231   \n",
      "2463 -0.062865  0.146592 -0.054390  0.036865  ... -0.205398  0.265364   \n",
      "1     0.105809  0.171159 -0.016165  0.181942  ... -0.078307  0.229144   \n",
      "\n",
      "          d121      d122      d123      d124      d125      d126      d127  \\\n",
      "0     0.058422  0.111004 -0.090628 -0.175578 -0.080170  0.039908  0.069584   \n",
      "4560  0.006562  0.190650 -0.008877 -0.045689 -0.043607  0.060283 -0.058052   \n",
      "3453  0.051107  0.052824 -0.141312 -0.043364  0.158120  0.026910 -0.002502   \n",
      "2463  0.070067 -0.060661  0.098615  0.036704  0.009116  0.021042 -0.150441   \n",
      "1     0.034789  0.036677 -0.052452 -0.010825 -0.087429 -0.093637 -0.003463   \n",
      "\n",
      "      cluster  \n",
      "0          32  \n",
      "4560       32  \n",
      "3453       32  \n",
      "2463      112  \n",
      "1         112  \n",
      "\n",
      "[5 rows x 132 columns]\n",
      "1086\n"
     ]
    }
   ],
   "source": [
    "if DEBUG:\n",
    "    data_dict, _ = parse_sample_submission()\n",
    "    dataset = \"church\"\n",
    "    paths_list_test = data_dict[dataset][:num_images]\n",
    "    feature_points_test = extract_feature_points(paths_list_test)[:num_feature_points]\n",
    "    feature_points_test = clustering_test(feature_points_test)\n",
    "    rep_feature_points_indices_test = RANSAC(feature_points_test,\n",
    "                                             num_semi_rep_points_test,\n",
    "                                             random_state,\n",
    "                                             sub_n_init,\n",
    "                                             num_rep_points_test)\n",
    "    rep_feature_points_test = feature_points_test.iloc[rep_feature_points_indices_test]\n",
    "    print(rep_feature_points_test.head())\n",
    "    print(len(rep_feature_points_test))"
   ]
  },
  {
   "cell_type": "code",
   "execution_count": 30,
   "id": "3205e240",
   "metadata": {
    "execution": {
     "iopub.execute_input": "2024-05-08T06:46:04.014639Z",
     "iopub.status.busy": "2024-05-08T06:46:04.014292Z",
     "iopub.status.idle": "2024-05-08T06:46:04.020710Z",
     "shell.execute_reply": "2024-05-08T06:46:04.019792Z"
    },
    "papermill": {
     "duration": 0.020894,
     "end_time": "2024-05-08T06:46:04.023349",
     "exception": false,
     "start_time": "2024-05-08T06:46:04.002455",
     "status": "completed"
    },
    "tags": []
   },
   "outputs": [],
   "source": [
    "def median(lst):\n",
    "    sorted_lst = sorted(lst)\n",
    "    n = len(sorted_lst)\n",
    "    if n % 2 == 1:\n",
    "        return sorted_lst[n // 2]\n",
    "    else:\n",
    "        mid = n // 2\n",
    "        return (sorted_lst[mid - 1] + sorted_lst[mid]) / 2"
   ]
  },
  {
   "cell_type": "code",
   "execution_count": 31,
   "id": "d2ca0562",
   "metadata": {
    "execution": {
     "iopub.execute_input": "2024-05-08T06:46:04.046341Z",
     "iopub.status.busy": "2024-05-08T06:46:04.046030Z",
     "iopub.status.idle": "2024-05-08T06:46:06.403742Z",
     "shell.execute_reply": "2024-05-08T06:46:06.402805Z"
    },
    "papermill": {
     "duration": 2.370958,
     "end_time": "2024-05-08T06:46:06.405291",
     "exception": false,
     "start_time": "2024-05-08T06:46:04.034333",
     "status": "completed"
    },
    "tags": []
   },
   "outputs": [],
   "source": [
    "weight = median(weights)"
   ]
  },
  {
   "cell_type": "code",
   "execution_count": 32,
   "id": "a480ceb2",
   "metadata": {
    "execution": {
     "iopub.execute_input": "2024-05-08T06:46:06.427794Z",
     "iopub.status.busy": "2024-05-08T06:46:06.427394Z",
     "iopub.status.idle": "2024-05-08T06:46:06.436110Z",
     "shell.execute_reply": "2024-05-08T06:46:06.434903Z"
    },
    "papermill": {
     "duration": 0.022998,
     "end_time": "2024-05-08T06:46:06.438886",
     "exception": false,
     "start_time": "2024-05-08T06:46:06.415888",
     "status": "completed"
    },
    "tags": []
   },
   "outputs": [],
   "source": [
    "def get_projection_matrix(model: pd.DataFrame, rep_feature_points_test: pd.DataFrame, image_name: str):\n",
    "    rep_fps_test_img = rep_feature_points_test[rep_feature_points_test.image_name==image_name]\n",
    "    X, y = [], []\n",
    "    for cluster in rep_fps_test_img.cluster:\n",
    "        rep_fps_test_img_cluster = rep_fps_test_img[rep_fps_test_img.cluster==cluster]\n",
    "        try:\n",
    "            coordinates_3D = model[model.cluster==cluster].iloc[0,1:]\n",
    "        except:\n",
    "            pass\n",
    "        coordinates_2D = rep_fps_test_img_cluster.iloc[np.random.choice(range(len(rep_fps_test_img_cluster))),1:3]\n",
    "        x0, y0, z0 = coordinates_3D\n",
    "        x1, y1 = coordinates_2D\n",
    "        X.append([x0, y0, z0, 1])\n",
    "        y.append([x1, y1, weight])\n",
    "    linear_model = LinearRegression(fit_intercept=False)\n",
    "    try:\n",
    "        linear_model.fit(X, y)\n",
    "        return linear_model.coef_\n",
    "    except:\n",
    "        return np.hstack((np.eye(3), np.ones((3,1))))"
   ]
  },
  {
   "cell_type": "code",
   "execution_count": 33,
   "id": "419319e4",
   "metadata": {
    "execution": {
     "iopub.execute_input": "2024-05-08T06:46:06.463092Z",
     "iopub.status.busy": "2024-05-08T06:46:06.462726Z",
     "iopub.status.idle": "2024-05-08T06:46:09.242939Z",
     "shell.execute_reply": "2024-05-08T06:46:09.241835Z"
    },
    "papermill": {
     "duration": 2.795479,
     "end_time": "2024-05-08T06:46:09.245901",
     "exception": false,
     "start_time": "2024-05-08T06:46:06.450422",
     "status": "completed"
    },
    "tags": []
   },
   "outputs": [
    {
     "name": "stdout",
     "output_type": "stream",
     "text": [
      "  image_name                                  projection_matrix\n",
      "0  00046.png  [[1.8311012698590675e-09, -1.7655273573948983e...\n",
      "1  00090.png  [[2.965101450573964e-08, -2.0578422194779173e-...\n",
      "2  00092.png  [[0.24328415332160147, -0.09283607983516792, -...\n",
      "3  00087.png  [[-0.04854749632460627, 0.00901805044710112, 0...\n",
      "4  00050.png  [[8.707769090696845e-11, -4.677030460794069e-1...\n",
      "41\n",
      "[[ 1.83110127e-09 -1.76552736e-09  2.82125685e-10  4.23807236e+02]\n",
      " [ 1.55161635e-10 -5.43750353e-10  4.50790140e-10  6.10401104e+02]\n",
      " [ 6.57626634e-25 -8.91804098e-25  2.64148496e-25  6.57849268e+01]]\n"
     ]
    }
   ],
   "source": [
    "if DEBUG:\n",
    "    projection_matrices_test = pd.DataFrame(columns=[\"image_name\",\"projection_matrix\"])\n",
    "    for image_path in paths_list_test:\n",
    "        image_name = image_path.split('/')[-1]\n",
    "        projection_matrix_test = get_projection_matrix(model,\n",
    "                                                       rep_feature_points_test,\n",
    "                                                       image_name)\n",
    "        projection_matrices_test.loc[len(projection_matrices_test)] = [image_name, projection_matrix_test]\n",
    "    print(projection_matrices_test.head())\n",
    "    print(len(projection_matrices_test))\n",
    "    print(projection_matrices_test.projection_matrix[0])"
   ]
  },
  {
   "cell_type": "code",
   "execution_count": null,
   "id": "e25aec88",
   "metadata": {
    "papermill": {
     "duration": 0.012127,
     "end_time": "2024-05-08T06:46:09.269780",
     "exception": false,
     "start_time": "2024-05-08T06:46:09.257653",
     "status": "completed"
    },
    "tags": []
   },
   "outputs": [],
   "source": []
  }
 ],
 "metadata": {
  "kaggle": {
   "accelerator": "none",
   "dataSources": [
    {
     "databundleVersionId": 8143495,
     "sourceId": 71885,
     "sourceType": "competition"
    },
    {
     "datasetId": 4628051,
     "sourceId": 7884485,
     "sourceType": "datasetVersion"
    },
    {
     "modelInstanceId": 3326,
     "sourceId": 4534,
     "sourceType": "modelInstanceVersion"
    },
    {
     "isSourceIdPinned": true,
     "modelInstanceId": 14611,
     "sourceId": 17555,
     "sourceType": "modelInstanceVersion"
    }
   ],
   "dockerImageVersionId": 30698,
   "isGpuEnabled": false,
   "isInternetEnabled": false,
   "language": "python",
   "sourceType": "notebook"
  },
  "kernelspec": {
   "display_name": "Python 3",
   "language": "python",
   "name": "python3"
  },
  "language_info": {
   "codemirror_mode": {
    "name": "ipython",
    "version": 3
   },
   "file_extension": ".py",
   "mimetype": "text/x-python",
   "name": "python",
   "nbconvert_exporter": "python",
   "pygments_lexer": "ipython3",
   "version": "3.10.13"
  },
  "papermill": {
   "default_parameters": {},
   "duration": 998.02081,
   "end_time": "2024-05-08T06:46:10.805066",
   "environment_variables": {},
   "exception": null,
   "input_path": "__notebook__.ipynb",
   "output_path": "__notebook__.ipynb",
   "parameters": {},
   "start_time": "2024-05-08T06:29:32.784256",
   "version": "2.5.0"
  }
 },
 "nbformat": 4,
 "nbformat_minor": 5
}
