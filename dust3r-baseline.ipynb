{
 "cells": [
  {
   "cell_type": "code",
   "execution_count": 1,
   "id": "1f8d75b2",
   "metadata": {
    "_cell_guid": "b1076dfc-b9ad-4769-8c92-a6c4dae69d19",
    "_uuid": "8f2839f25d086af736a60e9eeb907d3b93b6e0e5",
    "execution": {
     "iopub.execute_input": "2024-05-31T03:02:53.747251Z",
     "iopub.status.busy": "2024-05-31T03:02:53.746863Z",
     "iopub.status.idle": "2024-05-31T03:03:03.459410Z",
     "shell.execute_reply": "2024-05-31T03:03:03.458410Z"
    },
    "papermill": {
     "duration": 9.720351,
     "end_time": "2024-05-31T03:03:03.461878",
     "exception": false,
     "start_time": "2024-05-31T03:02:53.741527",
     "status": "completed"
    },
    "tags": []
   },
   "outputs": [
    {
     "name": "stdout",
     "output_type": "stream",
     "text": [
      "Warning, cannot find cuda-compiled version of RoPE2D, using a slow pytorch version instead\n"
     ]
    }
   ],
   "source": [
    "import numpy as np\n",
    "import pandas as pd\n",
    "import random\n",
    "import sys\n",
    "\n",
    "sys.path.append(\"/kaggle/input/dust3r-package\")\n",
    "sys.path.append(\"/kaggle/input/module-roma\")\n",
    "sys.path.append(\"/kaggle/input/einops/einops-master\")\n",
    "sys.path.append(\"/kaggle/input/trimesh-for-kaggle\")\n",
    "\n",
    "from dust3r.inference import inference\n",
    "from dust3r.model import AsymmetricCroCo3DStereo\n",
    "from dust3r.utils.image import load_images\n",
    "from dust3r.image_pairs import make_pairs\n",
    "from dust3r.cloud_opt import global_aligner, GlobalAlignerMode\n",
    "\n",
    "import gc"
   ]
  },
  {
   "cell_type": "code",
   "execution_count": 2,
   "id": "acda45aa",
   "metadata": {
    "execution": {
     "iopub.execute_input": "2024-05-31T03:03:03.470359Z",
     "iopub.status.busy": "2024-05-31T03:03:03.469857Z",
     "iopub.status.idle": "2024-05-31T03:03:03.475567Z",
     "shell.execute_reply": "2024-05-31T03:03:03.474828Z"
    },
    "papermill": {
     "duration": 0.011666,
     "end_time": "2024-05-31T03:03:03.477380",
     "exception": false,
     "start_time": "2024-05-31T03:03:03.465714",
     "status": "completed"
    },
    "tags": []
   },
   "outputs": [],
   "source": [
    "def arr_to_str(a):\n",
    "    return ';'.join([str(x) for x in a.reshape(-1)])"
   ]
  },
  {
   "cell_type": "code",
   "execution_count": 3,
   "id": "32316c48",
   "metadata": {
    "execution": {
     "iopub.execute_input": "2024-05-31T03:03:03.484850Z",
     "iopub.status.busy": "2024-05-31T03:03:03.484574Z",
     "iopub.status.idle": "2024-05-31T03:03:03.495306Z",
     "shell.execute_reply": "2024-05-31T03:03:03.494178Z"
    },
    "papermill": {
     "duration": 0.017395,
     "end_time": "2024-05-31T03:03:03.498007",
     "exception": false,
     "start_time": "2024-05-31T03:03:03.480612",
     "status": "completed"
    },
    "tags": []
   },
   "outputs": [
    {
     "name": "stdout",
     "output_type": "stream",
     "text": [
      "church / church -> 41 images\n"
     ]
    }
   ],
   "source": [
    "src = '/kaggle/input/image-matching-challenge-2024'\n",
    "\n",
    "# Get data from csv.\n",
    "data_dict = {}\n",
    "with open(f'{src}/sample_submission.csv', 'r') as f:\n",
    "    for i, l in enumerate(f):\n",
    "        # Skip header.\n",
    "        if l and i > 0:\n",
    "            image, dataset, scene, _, _ = l.strip().split(',')\n",
    "            if dataset not in data_dict:\n",
    "                data_dict[dataset] = {}\n",
    "            if scene not in data_dict[dataset]:\n",
    "                data_dict[dataset][scene] = []\n",
    "            data_dict[dataset][scene].append(image)\n",
    "                    \n",
    "for dataset in data_dict:\n",
    "    for scene in data_dict[dataset]:\n",
    "        print(f'{dataset} / {scene} -> {len(data_dict[dataset][scene])} images')"
   ]
  },
  {
   "cell_type": "code",
   "execution_count": 4,
   "id": "709763c3",
   "metadata": {
    "execution": {
     "iopub.execute_input": "2024-05-31T03:03:03.506133Z",
     "iopub.status.busy": "2024-05-31T03:03:03.505867Z",
     "iopub.status.idle": "2024-05-31T03:03:03.510712Z",
     "shell.execute_reply": "2024-05-31T03:03:03.509835Z"
    },
    "papermill": {
     "duration": 0.010911,
     "end_time": "2024-05-31T03:03:03.512616",
     "exception": false,
     "start_time": "2024-05-31T03:03:03.501705",
     "status": "completed"
    },
    "tags": []
   },
   "outputs": [],
   "source": [
    "device = 'cuda'\n",
    "batch_size = 1\n",
    "schedule = 'cosine'\n",
    "lr = 0.01\n",
    "niter = 1000\n",
    "max_num_pairs = 300\n",
    "\n",
    "def swin(dataset):\n",
    "    if dataset in [\"lizard\", \"pond\"]:\n",
    "        return \"swin-1\"\n",
    "    else:\n",
    "        return \"swin\"\n",
    "\n",
    "model_path = \"/kaggle/input/dust3r/pytorch/512_dpt/1/DUSt3R_ViTLarge_BaseDecoder_512_dpt.pth\""
   ]
  },
  {
   "cell_type": "code",
   "execution_count": 5,
   "id": "5c01ad6d",
   "metadata": {
    "execution": {
     "iopub.execute_input": "2024-05-31T03:03:03.520940Z",
     "iopub.status.busy": "2024-05-31T03:03:03.520506Z",
     "iopub.status.idle": "2024-05-31T03:15:06.177429Z",
     "shell.execute_reply": "2024-05-31T03:15:06.176515Z"
    },
    "papermill": {
     "duration": 722.6636,
     "end_time": "2024-05-31T03:15:06.179927",
     "exception": false,
     "start_time": "2024-05-31T03:03:03.516327",
     "status": "completed"
    },
    "tags": []
   },
   "outputs": [
    {
     "name": "stdout",
     "output_type": "stream",
     "text": [
      "dataset: church\n",
      "scene: church\n",
      "Got 41 images\n",
      "... loading model from /kaggle/input/dust3r/pytorch/512_dpt/1/DUSt3R_ViTLarge_BaseDecoder_512_dpt.pth\n",
      "instantiating : AsymmetricCroCo3DStereo(enc_depth=24, dec_depth=12, enc_embed_dim=1024, dec_embed_dim=768, enc_num_heads=16, dec_num_heads=12, pos_embed='RoPE100', patch_embed_cls='PatchEmbedDust3R', img_size=(512, 512), head_type='dpt', output_mode='pts3d', depth_mode=('exp', -inf, inf), conf_mode=('exp', 1, inf), landscape_only=False)\n",
      "<All keys matched successfully>\n",
      ">> Loading a list of 41 images\n",
      " - adding /kaggle/input/image-matching-challenge-2024/test/church/images/00046.png with resolution 768x1024 --> 384x512\n",
      " - adding /kaggle/input/image-matching-challenge-2024/test/church/images/00090.png with resolution 768x1024 --> 384x512\n",
      " - adding /kaggle/input/image-matching-challenge-2024/test/church/images/00092.png with resolution 768x1024 --> 384x512\n",
      " - adding /kaggle/input/image-matching-challenge-2024/test/church/images/00087.png with resolution 768x1024 --> 384x512\n",
      " - adding /kaggle/input/image-matching-challenge-2024/test/church/images/00050.png with resolution 768x1024 --> 384x512\n",
      " - adding /kaggle/input/image-matching-challenge-2024/test/church/images/00068.png with resolution 768x1024 --> 384x512\n",
      " - adding /kaggle/input/image-matching-challenge-2024/test/church/images/00083.png with resolution 768x1024 --> 384x512\n",
      " - adding /kaggle/input/image-matching-challenge-2024/test/church/images/00096.png with resolution 1024x768 --> 512x384\n",
      " - adding /kaggle/input/image-matching-challenge-2024/test/church/images/00069.png with resolution 768x1024 --> 384x512\n",
      " - adding /kaggle/input/image-matching-challenge-2024/test/church/images/00081.png with resolution 768x1024 --> 384x512\n",
      " - adding /kaggle/input/image-matching-challenge-2024/test/church/images/00042.png with resolution 1024x768 --> 512x384\n",
      " - adding /kaggle/input/image-matching-challenge-2024/test/church/images/00018.png with resolution 768x1024 --> 384x512\n",
      " - adding /kaggle/input/image-matching-challenge-2024/test/church/images/00030.png with resolution 768x1024 --> 384x512\n",
      " - adding /kaggle/input/image-matching-challenge-2024/test/church/images/00024.png with resolution 768x1024 --> 384x512\n",
      " - adding /kaggle/input/image-matching-challenge-2024/test/church/images/00032.png with resolution 768x1024 --> 384x512\n",
      " - adding /kaggle/input/image-matching-challenge-2024/test/church/images/00026.png with resolution 768x1024 --> 384x512\n",
      " - adding /kaggle/input/image-matching-challenge-2024/test/church/images/00037.png with resolution 768x1024 --> 384x512\n",
      " - adding /kaggle/input/image-matching-challenge-2024/test/church/images/00008.png with resolution 768x1024 --> 384x512\n",
      " - adding /kaggle/input/image-matching-challenge-2024/test/church/images/00035.png with resolution 1024x768 --> 512x384\n",
      " - adding /kaggle/input/image-matching-challenge-2024/test/church/images/00021.png with resolution 768x1024 --> 384x512\n",
      " - adding /kaggle/input/image-matching-challenge-2024/test/church/images/00010.png with resolution 768x1024 --> 384x512\n",
      " - adding /kaggle/input/image-matching-challenge-2024/test/church/images/00039.png with resolution 768x1024 --> 384x512\n",
      " - adding /kaggle/input/image-matching-challenge-2024/test/church/images/00011.png with resolution 768x1024 --> 384x512\n",
      " - adding /kaggle/input/image-matching-challenge-2024/test/church/images/00013.png with resolution 768x1024 --> 384x512\n",
      " - adding /kaggle/input/image-matching-challenge-2024/test/church/images/00006.png with resolution 768x1024 --> 384x512\n",
      " - adding /kaggle/input/image-matching-challenge-2024/test/church/images/00012.png with resolution 768x1024 --> 384x512\n",
      " - adding /kaggle/input/image-matching-challenge-2024/test/church/images/00029.png with resolution 768x1024 --> 384x512\n",
      " - adding /kaggle/input/image-matching-challenge-2024/test/church/images/00001.png with resolution 1024x768 --> 512x384\n",
      " - adding /kaggle/input/image-matching-challenge-2024/test/church/images/00098.png with resolution 768x1024 --> 384x512\n",
      " - adding /kaggle/input/image-matching-challenge-2024/test/church/images/00072.png with resolution 768x1024 --> 384x512\n",
      " - adding /kaggle/input/image-matching-challenge-2024/test/church/images/00066.png with resolution 768x1024 --> 384x512\n",
      " - adding /kaggle/input/image-matching-challenge-2024/test/church/images/00104.png with resolution 1024x768 --> 512x384\n",
      " - adding /kaggle/input/image-matching-challenge-2024/test/church/images/00058.png with resolution 768x1024 --> 384x512\n",
      " - adding /kaggle/input/image-matching-challenge-2024/test/church/images/00059.png with resolution 768x1024 --> 384x512\n",
      " - adding /kaggle/input/image-matching-challenge-2024/test/church/images/00111.png with resolution 768x1024 --> 384x512\n",
      " - adding /kaggle/input/image-matching-challenge-2024/test/church/images/00061.png with resolution 768x1024 --> 384x512\n",
      " - adding /kaggle/input/image-matching-challenge-2024/test/church/images/00060.png with resolution 768x1024 --> 384x512\n",
      " - adding /kaggle/input/image-matching-challenge-2024/test/church/images/00074.png with resolution 768x1024 --> 384x512\n",
      " - adding /kaggle/input/image-matching-challenge-2024/test/church/images/00102.png with resolution 768x1024 --> 384x512\n",
      " - adding /kaggle/input/image-matching-challenge-2024/test/church/images/00076.png with resolution 768x1024 --> 384x512\n",
      " - adding /kaggle/input/image-matching-challenge-2024/test/church/images/00063.png with resolution 768x1024 --> 384x512\n",
      " (Found 41 images)\n",
      ">> Inference with model on 246 image pairs\n"
     ]
    },
    {
     "name": "stderr",
     "output_type": "stream",
     "text": [
      "100%|██████████| 246/246 [01:35<00:00,  2.57it/s]\n"
     ]
    },
    {
     "name": "stdout",
     "output_type": "stream",
     "text": [
      " init edge (23*,25*) score=348.2974853515625\n",
      " init edge (22*,25) score=101.68627166748047\n",
      " init edge (26*,25) score=53.23867416381836\n",
      " init edge (23,21*) score=40.575191497802734\n",
      " init edge (27*,25) score=17.983867645263672\n",
      " init edge (24*,25) score=17.73099708557129\n",
      " init edge (27,29*) score=13.156030654907227\n",
      " init edge (29,28*) score=10.342477798461914\n",
      " init edge (20*,22) score=8.830647468566895\n",
      " init edge (22,19*) score=7.445827484130859\n",
      " init edge (18*,21) score=6.624990940093994\n",
      " init edge (16*,18) score=3.7041454315185547\n",
      " init edge (29,30*) score=23.824005126953125\n",
      " init edge (30,33*) score=16.5194034576416\n",
      " init edge (17*,20) score=11.792767524719238\n",
      " init edge (34*,33) score=63.98694610595703\n",
      " init edge (17,15*) score=56.947811126708984\n",
      " init edge (34,37*) score=52.91121292114258\n",
      " init edge (37,35*) score=28.890911102294922\n",
      " init edge (39*,37) score=27.79238510131836\n",
      " init edge (39,40*) score=12.79019546508789\n",
      " init edge (32*,35) score=10.68260383605957\n",
      " init edge (36*,35) score=5.48470401763916\n",
      " init edge (40,0*) score=3.4139816761016846\n",
      " init edge (38*,35) score=2.1380176544189453\n",
      " init edge (12*,15) score=147.5485382080078\n",
      " init edge (11*,12) score=50.75474548339844\n",
      " init edge (14*,12) score=32.79896926879883\n",
      " init edge (32,31*) score=17.882360458374023\n",
      " init edge (14,13*) score=10.352972984313965\n",
      " init edge (11,8*) score=9.555366516113281\n",
      " init edge (10*,12) score=6.849846363067627\n",
      " init edge (9*,8) score=2.5733397006988525\n",
      " init edge (8,5*) score=26.677331924438477\n",
      " init edge (5,7*) score=4.133662223815918\n",
      " init edge (2*,5) score=71.46477508544922\n",
      " init edge (2,3*) score=163.0682830810547\n",
      " init edge (1*,3) score=10.034591674804688\n",
      " init edge (6*,3) score=7.818844318389893\n",
      " init edge (4*,3) score=1.6478374004364014\n",
      " init loss = 0.021331418305635452\n",
      "Global alignement - optimizing for:\n",
      "['pw_poses', 'im_depthmaps', 'im_poses', 'im_focals']\n"
     ]
    },
    {
     "name": "stderr",
     "output_type": "stream",
     "text": [
      "100%|██████████| 1000/1000 [09:49<00:00,  1.70it/s, lr=1.02467e-06 loss=0.00516378]\n"
     ]
    }
   ],
   "source": [
    "result = {}\n",
    "for dataset in data_dict.keys():\n",
    "    if dataset not in result.keys():\n",
    "        result[dataset] = {}\n",
    "    print(\"dataset:\", dataset)\n",
    "    for scene in data_dict[dataset].keys():\n",
    "        if scene not in result[dataset].keys():\n",
    "            result[dataset][scene] = {}\n",
    "        print(\"scene:\", scene)\n",
    "\n",
    "        img_names = data_dict[dataset][scene]\n",
    "        img_fnames = [f'{src}/{x}' for x in img_names]\n",
    "        print (f\"Got {len(img_fnames)} images\")\n",
    "        \n",
    "        try:\n",
    "            # you can put the path to a local checkpoint in model_name if needed\n",
    "            model = AsymmetricCroCo3DStereo.from_pretrained(model_path).to(device)\n",
    "\n",
    "            # load_images can take a list of images or a directory\n",
    "            images = load_images(img_fnames, size=512)\n",
    "            pairs = make_pairs(images, scene_graph=swin(dataset), prefilter=None, symmetrize=True)\n",
    "            paris = random.sample(pairs, min(max_num_pairs, len(pairs)))\n",
    "            output = inference(pairs, model, device, batch_size=batch_size)\n",
    "\n",
    "            # at this stage, you have the raw dust3r predictions\n",
    "            view1, pred1 = output['view1'], output['pred1']\n",
    "            view2, pred2 = output['view2'], output['pred2']\n",
    "\n",
    "            output = global_aligner(output, device=device, mode=GlobalAlignerMode.PointCloudOptimizer)\n",
    "            loss = output.compute_global_alignment(init=\"mst\", niter=niter, schedule=schedule, lr=lr)\n",
    "\n",
    "            # retrieve useful values from scene:\n",
    "            # imgs = output.imgs\n",
    "            # focals = output.get_focals()\n",
    "            poses = output.get_im_poses()\n",
    "            # pts3d = output.get_pts3d()\n",
    "            # confidence_masks = output.get_masks()\n",
    "\n",
    "            for img_name, pose in zip(img_names, poses):\n",
    "                rotation_matrix,  = pose[:3,:3].cpu().detach().numpy(), \n",
    "                translation_vector = pose[:3,3].cpu().detach().numpy()\n",
    "                result[dataset][scene][img_name] = (rotation_matrix, translation_vector)\n",
    "\n",
    "            # visualize reconstruction\n",
    "            # output.show()\n",
    "\n",
    "            del model\n",
    "            del images\n",
    "            del output\n",
    "\n",
    "            gc.collect()\n",
    "            \n",
    "        except Exception as e:\n",
    "            print(e)"
   ]
  },
  {
   "cell_type": "code",
   "execution_count": 6,
   "id": "d749328d",
   "metadata": {
    "execution": {
     "iopub.execute_input": "2024-05-31T03:15:06.536576Z",
     "iopub.status.busy": "2024-05-31T03:15:06.535882Z",
     "iopub.status.idle": "2024-05-31T03:15:06.545381Z",
     "shell.execute_reply": "2024-05-31T03:15:06.544434Z"
    },
    "papermill": {
     "duration": 0.190435,
     "end_time": "2024-05-31T03:15:06.547679",
     "exception": false,
     "start_time": "2024-05-31T03:15:06.357244",
     "status": "completed"
    },
    "tags": []
   },
   "outputs": [
    {
     "name": "stdout",
     "output_type": "stream",
     "text": [
      "test/church/images/00046.png\n",
      "test/church/images/00090.png\n",
      "test/church/images/00092.png\n",
      "test/church/images/00087.png\n",
      "test/church/images/00050.png\n",
      "test/church/images/00068.png\n",
      "test/church/images/00083.png\n",
      "test/church/images/00096.png\n",
      "test/church/images/00069.png\n",
      "test/church/images/00081.png\n",
      "test/church/images/00042.png\n",
      "test/church/images/00018.png\n",
      "test/church/images/00030.png\n",
      "test/church/images/00024.png\n",
      "test/church/images/00032.png\n",
      "test/church/images/00026.png\n",
      "test/church/images/00037.png\n",
      "test/church/images/00008.png\n",
      "test/church/images/00035.png\n",
      "test/church/images/00021.png\n",
      "test/church/images/00010.png\n",
      "test/church/images/00039.png\n",
      "test/church/images/00011.png\n",
      "test/church/images/00013.png\n",
      "test/church/images/00006.png\n",
      "test/church/images/00012.png\n",
      "test/church/images/00029.png\n",
      "test/church/images/00001.png\n",
      "test/church/images/00098.png\n",
      "test/church/images/00072.png\n",
      "test/church/images/00066.png\n",
      "test/church/images/00104.png\n",
      "test/church/images/00058.png\n",
      "test/church/images/00059.png\n",
      "test/church/images/00111.png\n",
      "test/church/images/00061.png\n",
      "test/church/images/00060.png\n",
      "test/church/images/00074.png\n",
      "test/church/images/00102.png\n",
      "test/church/images/00076.png\n",
      "test/church/images/00063.png\n"
     ]
    }
   ],
   "source": [
    "with open(f'submission.csv', 'w') as f:\n",
    "    f.write('image_path,dataset,scene,rotation_matrix,translation_vector\\n')\n",
    "    for dataset in data_dict:\n",
    "        for scene in data_dict[dataset]:\n",
    "            for image in data_dict[dataset][scene]:\n",
    "                if image in result[dataset][scene].keys():\n",
    "                    print(image)\n",
    "                    rotation_matrix = result[dataset][scene][image][0]\n",
    "                    translation_vector = result[dataset][scene][image][1]\n",
    "                else:\n",
    "                    rotation_matrix = np.eye(3)\n",
    "                    translation_vector = np.zeros((3,1))\n",
    "                f.write(f'{image},{dataset},{scene},{arr_to_str(rotation_matrix)},{arr_to_str(translation_vector)}\\n')"
   ]
  },
  {
   "cell_type": "code",
   "execution_count": 7,
   "id": "884483e2",
   "metadata": {
    "execution": {
     "iopub.execute_input": "2024-05-31T03:15:06.901678Z",
     "iopub.status.busy": "2024-05-31T03:15:06.900987Z",
     "iopub.status.idle": "2024-05-31T03:15:07.939264Z",
     "shell.execute_reply": "2024-05-31T03:15:07.938143Z"
    },
    "papermill": {
     "duration": 1.217539,
     "end_time": "2024-05-31T03:15:07.941402",
     "exception": false,
     "start_time": "2024-05-31T03:15:06.723863",
     "status": "completed"
    },
    "tags": []
   },
   "outputs": [
    {
     "name": "stdout",
     "output_type": "stream",
     "text": [
      "image_path,dataset,scene,rotation_matrix,translation_vector\r\n",
      "test/church/images/00046.png,church,church,-0.19619188;0.38640407;0.9012218;-0.11904976;0.90289843;-0.41303957;-0.97331184;-0.18832524;-0.13113996,-0.3604628;0.09148759;0.4396099\r\n",
      "test/church/images/00090.png,church,church,0.9738032;0.062767416;0.21855822;0.014381669;0.9422241;-0.3346746;-0.22693747;0.32905042;0.9166381,0.019109283;0.0504517;0.13774267\r\n",
      "test/church/images/00092.png,church,church,0.9383378;0.10269065;0.33011627;-0.00021410361;0.9550392;-0.2964795;-0.34571964;0.27812722;0.8961714,0.023552695;0.031003982;0.17744933\r\n",
      "test/church/images/00087.png,church,church,0.88997823;0.15669504;0.42823538;-0.01818049;0.9505524;-0.31003183;-0.45564058;0.26813602;0.8488197,0.006465416;0.037059776;0.18463089\r\n",
      "test/church/images/00050.png,church,church,0.68967044;-0.04523753;0.72270894;-0.013691146;0.9970536;0.07547523;-0.7239939;-0.061947748;0.6870191,-0.0925116;0.013238394;0.19848752\r\n",
      "test/church/images/00068.png,church,church,0.58711517;0.46146786;0.6650888;-0.0682776;0.8469029;-0.52734566;-0.8066188;0.264202;0.5287375,0.0014735594;-0.036946345;0.33106914\r\n",
      "test/church/images/00083.png,church,church,0.8906761;0.25244975;0.3781076;-0.06210888;0.8914334;-0.44887546;-0.4503762;0.37631878;0.8096577,-0.05134475;0.09232554;0.13384183\r\n",
      "test/church/images/00096.png,church,church,0.95803136;-0.04514846;-0.2830852;0.06835204;0.99501395;0.07262849;0.27839473;-0.08892984;0.95634073,0.0519227;0.019635893;0.19202244\r\n",
      "test/church/images/00069.png,church,church,0.51109004;0.3535316;0.7834554;-0.039337173;0.9201615;-0.38955802;-0.8586265;0.16828032;0.4841923,-0.21741371;0.09738605;0.20343447\r\n",
      "test/church/images/00081.png,church,church,0.84668136;0.18174663;0.50009906;-0.057423;0.96557885;-0.2536932;-0.5289929;0.18608007;0.82797396,-0.03865877;0.04535346;0.16378394\r\n",
      "test/church/images/00042.png,church,church,0.7706908;-0.25198114;-0.5852704;0.08437841;0.9507582;-0.2982271;0.6315981;0.18045668;0.7540023,0.32611808;0.042561967;0.047316846\r\n",
      "test/church/images/00018.png,church,church,0.9664867;0.09110384;0.24000777;0.0029528774;0.93090475;-0.3652503;-0.25670007;0.35371822;0.89943796,0.008730645;-0.00036255532;0.15794179\r\n",
      "test/church/images/00030.png,church,church,0.9669855;-0.14719781;-0.2080188;0.03474326;0.8848304;-0.46461603;0.2524518;0.4420497;0.8607323,0.11491538;0.030285345;0.17992052\r\n",
      "test/church/images/00024.png,church,church,0.8556776;-0.2771953;-0.43701106;0.15274987;0.94210976;-0.29849076;0.4944526;0.18865849;0.84848374,0.060502436;0.022293603;0.1202521\r\n",
      "test/church/images/00032.png,church,church,0.99745256;-0.050330825;-0.050550036;0.034484714;0.9605564;-0.27593905;0.062444396;0.27349287;0.959845,0.067834884;0.048956633;0.008695317\r\n",
      "test/church/images/00026.png,church,church,0.97687465;-0.17717531;-0.11968638;0.11454409;0.9063263;-0.40675822;0.18054242;0.3836424;0.9056616,0.100681804;0.031834997;0.13739084\r\n",
      "test/church/images/00037.png,church,church,-0.60919523;-0.11716451;-0.7843174;0.16770245;0.94762385;-0.2718178;0.7750852;-0.29712206;-0.55763924,0.08994043;0.034170773;0.25372136\r\n",
      "test/church/images/00008.png,church,church,0.9981946;-0.007061993;0.059646018;0.017319124;0.9847254;-0.17325099;-0.05751145;0.17397122;0.9830699,0.042033516;0.007928412;-0.016966717\r\n",
      "test/church/images/00035.png,church,church,-0.30167228;-0.44978553;-0.8406467;0.110384345;0.85931784;-0.49938774;0.9470001;-0.2434457;-0.2095831,0.19187616;0.08038094;0.2570685\r\n",
      "test/church/images/00021.png,church,church,0.98767143;-0.12694302;-0.09160081;0.10262226;0.9669289;-0.23348919;0.11821129;0.2212103;0.9680352,0.087457635;0.0131774945;0.10834144\r\n",
      "test/church/images/00010.png,church,church,0.99013746;-0.00047159474;0.14009772;0.017543137;0.9925406;-0.12064465;-0.13899581;0.12191256;0.98276,0.0028697392;0.021959271;-0.11750969\r\n",
      "test/church/images/00039.png,church,church,0.66962755;-0.3594627;-0.6499119;0.14202711;0.92089814;-0.36300808;0.72899055;0.15077509;0.6677122,0.12241757;0.030194325;0.16853932\r\n",
      "test/church/images/00011.png,church,church,0.99583095;-0.006887651;0.09095956;0.021297488;0.9871426;-0.1584177;-0.088698916;0.15969443;0.98317367,-0.0021297145;0.0047158017;0.009914371\r\n",
      "test/church/images/00013.png,church,church,0.9998994;-0.009648079;0.010401321;0.009949466;0.9995204;-0.029324451;-0.010113408;0.02942499;0.99951583,0.0;0.0;0.0\r\n",
      "test/church/images/00006.png,church,church,0.99363756;0.07896578;-0.08030457;-0.08679499;0.9912753;-0.09919642;0.07177081;0.10553531;0.9918222,0.026825981;0.0037885322;-0.018888604\r\n",
      "test/church/images/00012.png,church,church,0.98721385;-0.005265074;0.15931493;0.021639058;0.99462897;-0.10121827;-0.15792632;0.103371486;0.9820253,-0.001887119;0.010224829;0.06893299\r\n",
      "test/church/images/00029.png,church,church,0.9994149;-0.021061882;0.026949886;0.025860805;0.98098165;-0.19237019;-0.022385664;0.19295458;0.9809524,0.05410943;0.027963532;0.051611338\r\n",
      "test/church/images/00001.png,church,church,0.99618053;-0.087307446;0.0013298136;0.08674636;0.98780966;-0.1292561;0.0099714175;0.12887776;0.99161035,-0.024398485;-0.00043715056;-0.24970703\r\n",
      "test/church/images/00098.png,church,church,0.8902391;0.17536919;0.42038086;-0.010602146;0.9306407;-0.3657808;-0.45537022;0.32117543;0.83035195,-0.012737321;0.019467214;0.2307134\r\n",
      "test/church/images/00072.png,church,church,0.73872566;0.38675296;0.5520024;-0.042785704;0.84424365;-0.5342492;-0.67264694;0.37104577;0.6402119,-0.049866144;0.04886956;0.24222298\r\n",
      "test/church/images/00066.png,church,church,0.51807594;0.3986155;0.7567715;-0.07887539;0.9032613;-0.42177927;-0.8516901;0.15882306;0.49939895,-0.08347522;0.054922458;0.28322595\r\n",
      "test/church/images/00104.png,church,church,0.7718886;0.21497482;0.5983089;-0.07080292;0.96430916;-0.25513616;-0.6318027;0.1545747;0.7595602,-0.070590824;0.05840159;0.26351205\r\n",
      "test/church/images/00058.png,church,church,-0.9976279;-0.04410377;-0.052854065;-0.04138864;0.9978197;-0.051408578;0.055006135;-0.04909907;-0.99727815,0.028262928;0.054510336;0.44088712\r\n",
      "test/church/images/00059.png,church,church,-0.15371376;0.61090076;0.77664185;-0.07501736;0.77649957;-0.6256364;-0.9852637;-0.15443052;-0.073530495,-0.0883823;0.06349999;0.39329755\r\n",
      "test/church/images/00111.png,church,church,0.88230395;-0.29156405;-0.36950022;0.09783626;0.88149357;-0.46194962;0.46039993;0.3714294;0.8062707,0.16622858;0.04633816;0.17709596\r\n",
      "test/church/images/00061.png,church,church,-0.059349418;0.46801853;0.88172346;-0.1316241;0.8718994;-0.47166362;-0.98952144;-0.14404902;0.009855807,-0.08694426;0.05610301;0.3914818\r\n",
      "test/church/images/00060.png,church,church,-0.97972304;0.09667854;0.17548825;0.011432927;0.90142757;-0.43277887;-0.20003037;-0.42199704;-0.88425463,0.021168023;0.05615253;0.42123008\r\n",
      "test/church/images/00074.png,church,church,0.8882641;0.16634597;0.42815408;-0.05472419;0.96380687;-0.26092443;-0.45606157;0.20833942;0.8652182,-0.06459622;0.052890874;0.18150719\r\n",
      "test/church/images/00102.png,church,church,-0.93872935;-0.05306392;-0.34054562;0.046279795;0.959721;-0.27711636;0.34153375;-0.27589768;-0.8984626,0.13979281;0.09057399;0.7281674\r\n",
      "test/church/images/00076.png,church,church,0.4538182;0.20336336;0.8675785;-0.07688147;0.97891545;-0.18924549;-0.8877716;0.01918234;0.45988446,-0.31484887;0.0445239;0.15867518\r\n",
      "test/church/images/00063.png,church,church,-0.5332562;0.7379093;0.4136761;-0.12838376;0.4127494;-0.9017515;-0.8361553;-0.5339738;-0.12536561,-0.019616926;0.09686283;0.41496712\r\n"
     ]
    }
   ],
   "source": [
    "!cat submission.csv"
   ]
  },
  {
   "cell_type": "code",
   "execution_count": null,
   "id": "7405efec",
   "metadata": {
    "papermill": {
     "duration": 0.177621,
     "end_time": "2024-05-31T03:15:08.301659",
     "exception": false,
     "start_time": "2024-05-31T03:15:08.124038",
     "status": "completed"
    },
    "tags": []
   },
   "outputs": [],
   "source": []
  }
 ],
 "metadata": {
  "kaggle": {
   "accelerator": "gpu",
   "dataSources": [
    {
     "databundleVersionId": 8143495,
     "sourceId": 71885,
     "sourceType": "competition"
    },
    {
     "datasetId": 2458397,
     "sourceId": 4165268,
     "sourceType": "datasetVersion"
    },
    {
     "datasetId": 5080154,
     "sourceId": 8510477,
     "sourceType": "datasetVersion"
    },
    {
     "datasetId": 5106124,
     "sourceId": 8546179,
     "sourceType": "datasetVersion"
    },
    {
     "datasetId": 5106205,
     "sourceId": 8547652,
     "sourceType": "datasetVersion"
    },
    {
     "modelInstanceId": 24267,
     "sourceId": 28823,
     "sourceType": "modelInstanceVersion"
    }
   ],
   "dockerImageVersionId": 30699,
   "isGpuEnabled": true,
   "isInternetEnabled": false,
   "language": "python",
   "sourceType": "notebook"
  },
  "kernelspec": {
   "display_name": "Python 3",
   "language": "python",
   "name": "python3"
  },
  "language_info": {
   "codemirror_mode": {
    "name": "ipython",
    "version": 3
   },
   "file_extension": ".py",
   "mimetype": "text/x-python",
   "name": "python",
   "nbconvert_exporter": "python",
   "pygments_lexer": "ipython3",
   "version": "3.10.13"
  },
  "papermill": {
   "default_parameters": {},
   "duration": 739.52275,
   "end_time": "2024-05-31T03:15:10.409637",
   "environment_variables": {},
   "exception": null,
   "input_path": "__notebook__.ipynb",
   "output_path": "__notebook__.ipynb",
   "parameters": {},
   "start_time": "2024-05-31T03:02:50.886887",
   "version": "2.5.0"
  }
 },
 "nbformat": 4,
 "nbformat_minor": 5
}
