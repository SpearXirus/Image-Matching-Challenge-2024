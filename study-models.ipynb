{
 "cells": [
  {
   "cell_type": "markdown",
   "id": "562f079e",
   "metadata": {
    "papermill": {
     "duration": 0.006743,
     "end_time": "2024-04-30T05:37:53.342652",
     "exception": false,
     "start_time": "2024-04-30T05:37:53.335909",
     "status": "completed"
    },
    "tags": []
   },
   "source": [
    "# Import"
   ]
  },
  {
   "cell_type": "code",
   "execution_count": 1,
   "id": "1057515c",
   "metadata": {
    "_kg_hide-output": true,
    "execution": {
     "iopub.execute_input": "2024-04-30T05:37:53.356698Z",
     "iopub.status.busy": "2024-04-30T05:37:53.356170Z",
     "iopub.status.idle": "2024-04-30T05:38:29.559738Z",
     "shell.execute_reply": "2024-04-30T05:38:29.558237Z"
    },
    "papermill": {
     "duration": 36.21443,
     "end_time": "2024-04-30T05:38:29.563194",
     "exception": false,
     "start_time": "2024-04-30T05:37:53.348764",
     "status": "completed"
    },
    "tags": []
   },
   "outputs": [
    {
     "name": "stdout",
     "output_type": "stream",
     "text": [
      "Collecting git+https://github.com/cvg/LightGlue.git\r\n",
      "  Cloning https://github.com/cvg/LightGlue.git to /tmp/pip-req-build-pj3zb6xo\r\n",
      "  Running command git clone --filter=blob:none --quiet https://github.com/cvg/LightGlue.git /tmp/pip-req-build-pj3zb6xo\r\n",
      "  Resolved https://github.com/cvg/LightGlue.git to commit edb2b838efb2ecfe3f88097c5fad9887d95aedad\r\n",
      "  Installing build dependencies ... \u001b[?25l-\b \b\\\b \b|\b \b/\b \b-\b \bdone\r\n",
      "\u001b[?25h  Getting requirements to build wheel ... \u001b[?25l-\b \bdone\r\n",
      "\u001b[?25h  Preparing metadata (pyproject.toml) ... \u001b[?25l-\b \bdone\r\n",
      "\u001b[?25hRequirement already satisfied: torch>=1.9.1 in /opt/conda/lib/python3.10/site-packages (from lightglue==0.0) (2.1.2+cpu)\r\n",
      "Requirement already satisfied: torchvision>=0.3 in /opt/conda/lib/python3.10/site-packages (from lightglue==0.0) (0.16.2+cpu)\r\n",
      "Requirement already satisfied: numpy in /opt/conda/lib/python3.10/site-packages (from lightglue==0.0) (1.26.4)\r\n",
      "Requirement already satisfied: opencv-python in /opt/conda/lib/python3.10/site-packages (from lightglue==0.0) (4.9.0.80)\r\n",
      "Requirement already satisfied: matplotlib in /opt/conda/lib/python3.10/site-packages (from lightglue==0.0) (3.7.5)\r\n",
      "Requirement already satisfied: kornia>=0.6.11 in /opt/conda/lib/python3.10/site-packages (from lightglue==0.0) (0.7.2)\r\n",
      "Requirement already satisfied: kornia-rs>=0.1.0 in /opt/conda/lib/python3.10/site-packages (from kornia>=0.6.11->lightglue==0.0) (0.1.3)\r\n",
      "Requirement already satisfied: packaging in /opt/conda/lib/python3.10/site-packages (from kornia>=0.6.11->lightglue==0.0) (21.3)\r\n",
      "Requirement already satisfied: filelock in /opt/conda/lib/python3.10/site-packages (from torch>=1.9.1->lightglue==0.0) (3.13.1)\r\n",
      "Requirement already satisfied: typing-extensions in /opt/conda/lib/python3.10/site-packages (from torch>=1.9.1->lightglue==0.0) (4.9.0)\r\n",
      "Requirement already satisfied: sympy in /opt/conda/lib/python3.10/site-packages (from torch>=1.9.1->lightglue==0.0) (1.12)\r\n",
      "Requirement already satisfied: networkx in /opt/conda/lib/python3.10/site-packages (from torch>=1.9.1->lightglue==0.0) (3.2.1)\r\n",
      "Requirement already satisfied: jinja2 in /opt/conda/lib/python3.10/site-packages (from torch>=1.9.1->lightglue==0.0) (3.1.2)\r\n",
      "Requirement already satisfied: fsspec in /opt/conda/lib/python3.10/site-packages (from torch>=1.9.1->lightglue==0.0) (2024.2.0)\r\n",
      "Requirement already satisfied: requests in /opt/conda/lib/python3.10/site-packages (from torchvision>=0.3->lightglue==0.0) (2.31.0)\r\n",
      "Requirement already satisfied: pillow!=8.3.*,>=5.3.0 in /opt/conda/lib/python3.10/site-packages (from torchvision>=0.3->lightglue==0.0) (9.5.0)\r\n",
      "Requirement already satisfied: contourpy>=1.0.1 in /opt/conda/lib/python3.10/site-packages (from matplotlib->lightglue==0.0) (1.2.0)\r\n",
      "Requirement already satisfied: cycler>=0.10 in /opt/conda/lib/python3.10/site-packages (from matplotlib->lightglue==0.0) (0.12.1)\r\n",
      "Requirement already satisfied: fonttools>=4.22.0 in /opt/conda/lib/python3.10/site-packages (from matplotlib->lightglue==0.0) (4.47.0)\r\n",
      "Requirement already satisfied: kiwisolver>=1.0.1 in /opt/conda/lib/python3.10/site-packages (from matplotlib->lightglue==0.0) (1.4.5)\r\n",
      "Requirement already satisfied: pyparsing>=2.3.1 in /opt/conda/lib/python3.10/site-packages (from matplotlib->lightglue==0.0) (3.1.1)\r\n",
      "Requirement already satisfied: python-dateutil>=2.7 in /opt/conda/lib/python3.10/site-packages (from matplotlib->lightglue==0.0) (2.9.0.post0)\r\n",
      "Requirement already satisfied: six>=1.5 in /opt/conda/lib/python3.10/site-packages (from python-dateutil>=2.7->matplotlib->lightglue==0.0) (1.16.0)\r\n",
      "Requirement already satisfied: MarkupSafe>=2.0 in /opt/conda/lib/python3.10/site-packages (from jinja2->torch>=1.9.1->lightglue==0.0) (2.1.3)\r\n",
      "Requirement already satisfied: charset-normalizer<4,>=2 in /opt/conda/lib/python3.10/site-packages (from requests->torchvision>=0.3->lightglue==0.0) (3.3.2)\r\n",
      "Requirement already satisfied: idna<4,>=2.5 in /opt/conda/lib/python3.10/site-packages (from requests->torchvision>=0.3->lightglue==0.0) (3.6)\r\n",
      "Requirement already satisfied: urllib3<3,>=1.21.1 in /opt/conda/lib/python3.10/site-packages (from requests->torchvision>=0.3->lightglue==0.0) (1.26.18)\r\n",
      "Requirement already satisfied: certifi>=2017.4.17 in /opt/conda/lib/python3.10/site-packages (from requests->torchvision>=0.3->lightglue==0.0) (2024.2.2)\r\n",
      "Requirement already satisfied: mpmath>=0.19 in /opt/conda/lib/python3.10/site-packages (from sympy->torch>=1.9.1->lightglue==0.0) (1.3.0)\r\n",
      "Building wheels for collected packages: lightglue\r\n",
      "  Building wheel for lightglue (pyproject.toml) ... \u001b[?25l-\b \bdone\r\n",
      "\u001b[?25h  Created wheel for lightglue: filename=lightglue-0.0-py3-none-any.whl size=39499 sha256=f5525d216bec4de240f96292bf35146052b62ab8621b381efb8c2ae8758954e6\r\n",
      "  Stored in directory: /tmp/pip-ephem-wheel-cache-0pl9vgcc/wheels/07/dc/a1/22bc17d3d78e58fbd145e264d6736aab70959fbf872c80ddb9\r\n",
      "Successfully built lightglue\r\n",
      "Installing collected packages: lightglue\r\n",
      "Successfully installed lightglue-0.0\r\n"
     ]
    }
   ],
   "source": [
    "!pip install git+https://github.com/cvg/LightGlue.git"
   ]
  },
  {
   "cell_type": "code",
   "execution_count": 2,
   "id": "e27df304",
   "metadata": {
    "execution": {
     "iopub.execute_input": "2024-04-30T05:38:29.582036Z",
     "iopub.status.busy": "2024-04-30T05:38:29.581600Z",
     "iopub.status.idle": "2024-04-30T05:38:54.830552Z",
     "shell.execute_reply": "2024-04-30T05:38:54.828467Z"
    },
    "papermill": {
     "duration": 25.262157,
     "end_time": "2024-04-30T05:38:54.834160",
     "exception": false,
     "start_time": "2024-04-30T05:38:29.572003",
     "status": "completed"
    },
    "tags": []
   },
   "outputs": [
    {
     "name": "stderr",
     "output_type": "stream",
     "text": [
      "2024-04-30 05:38:41.689303: E external/local_xla/xla/stream_executor/cuda/cuda_dnn.cc:9261] Unable to register cuDNN factory: Attempting to register factory for plugin cuDNN when one has already been registered\n",
      "2024-04-30 05:38:41.689489: E external/local_xla/xla/stream_executor/cuda/cuda_fft.cc:607] Unable to register cuFFT factory: Attempting to register factory for plugin cuFFT when one has already been registered\n",
      "2024-04-30 05:38:41.862197: E external/local_xla/xla/stream_executor/cuda/cuda_blas.cc:1515] Unable to register cuBLAS factory: Attempting to register factory for plugin cuBLAS when one has already been registered\n"
     ]
    }
   ],
   "source": [
    "import cv2\n",
    "import torch\n",
    "from lightglue import ALIKED\n",
    "from lightglue.utils import load_image, rbd\n",
    "\n",
    "from transformers import AutoImageProcessor, AutoModel\n",
    "from PIL import Image\n",
    "\n",
    "import kornia as K\n",
    "import kornia.feature as KF"
   ]
  },
  {
   "cell_type": "code",
   "execution_count": 3,
   "id": "bf49956a",
   "metadata": {
    "execution": {
     "iopub.execute_input": "2024-04-30T05:38:54.888739Z",
     "iopub.status.busy": "2024-04-30T05:38:54.887187Z",
     "iopub.status.idle": "2024-04-30T05:38:54.893185Z",
     "shell.execute_reply": "2024-04-30T05:38:54.892125Z"
    },
    "papermill": {
     "duration": 0.020779,
     "end_time": "2024-04-30T05:38:54.896762",
     "exception": false,
     "start_time": "2024-04-30T05:38:54.875983",
     "status": "completed"
    },
    "tags": []
   },
   "outputs": [],
   "source": [
    "device = torch.device('cuda') if torch.cuda.is_available() else torch.device('cpu')"
   ]
  },
  {
   "cell_type": "markdown",
   "id": "d067b3e1",
   "metadata": {
    "papermill": {
     "duration": 0.01037,
     "end_time": "2024-04-30T05:38:54.916170",
     "exception": false,
     "start_time": "2024-04-30T05:38:54.905800",
     "status": "completed"
    },
    "tags": []
   },
   "source": [
    "# ALIKED"
   ]
  },
  {
   "cell_type": "code",
   "execution_count": 4,
   "id": "9c99c2e3",
   "metadata": {
    "execution": {
     "iopub.execute_input": "2024-04-30T05:38:54.942203Z",
     "iopub.status.busy": "2024-04-30T05:38:54.941815Z",
     "iopub.status.idle": "2024-04-30T05:38:59.856322Z",
     "shell.execute_reply": "2024-04-30T05:38:59.854412Z"
    },
    "papermill": {
     "duration": 4.932055,
     "end_time": "2024-04-30T05:38:59.859607",
     "exception": false,
     "start_time": "2024-04-30T05:38:54.927552",
     "status": "completed"
    },
    "tags": []
   },
   "outputs": [
    {
     "name": "stderr",
     "output_type": "stream",
     "text": [
      "Downloading: \"https://github.com/Shiaoming/ALIKED/raw/main/models/aliked-n16.pth\" to /root/.cache/torch/hub/checkpoints/aliked-n16.pth\n",
      "100%|██████████| 2.61M/2.61M [00:00<00:00, 74.2MB/s]\n"
     ]
    },
    {
     "name": "stdout",
     "output_type": "stream",
     "text": [
      "keypoints torch.Size([1, 4096, 2])\n",
      "descriptors torch.Size([1, 4096, 128])\n",
      "keypoint_scores torch.Size([1, 4096])\n",
      "image_size torch.Size([1, 2])\n"
     ]
    }
   ],
   "source": [
    "aliked = ALIKED(max_num_keypoints=4096, detection_threshold=0.01).eval().to(device)\n",
    "\n",
    "image0 = load_image('/kaggle/input/image-matching-challenge-2024/train/church/images/00001.png').to(device)\n",
    "\n",
    "# extract local features\n",
    "feats0 = aliked.extract(image0)  # auto-resize the image, disable with resize=None\n",
    "for k, v in feats0.items():\n",
    "    print (k, v.shape)"
   ]
  },
  {
   "cell_type": "code",
   "execution_count": 5,
   "id": "0255020f",
   "metadata": {
    "execution": {
     "iopub.execute_input": "2024-04-30T05:38:59.885248Z",
     "iopub.status.busy": "2024-04-30T05:38:59.883965Z",
     "iopub.status.idle": "2024-04-30T05:38:59.905081Z",
     "shell.execute_reply": "2024-04-30T05:38:59.903817Z"
    },
    "papermill": {
     "duration": 0.035524,
     "end_time": "2024-04-30T05:38:59.907804",
     "exception": false,
     "start_time": "2024-04-30T05:38:59.872280",
     "status": "completed"
    },
    "tags": []
   },
   "outputs": [
    {
     "data": {
      "text/plain": [
       "dict_items([('keypoints', tensor([[[557.9164, 495.9955],\n",
       "         [512.8110, 505.9701],\n",
       "         [534.5049, 501.1361],\n",
       "         ...,\n",
       "         [212.1918, 397.0319],\n",
       "         [399.1904, 548.9808],\n",
       "         [343.1084, 544.9963]]])), ('descriptors', tensor([[[-0.0153,  0.0267, -0.0703,  ...,  0.0943, -0.0142,  0.0646],\n",
       "         [-0.0471, -0.1022, -0.0973,  ..., -0.1469, -0.0399,  0.0732],\n",
       "         [ 0.0421, -0.0295, -0.0579,  ..., -0.0784,  0.0575,  0.0970],\n",
       "         ...,\n",
       "         [-0.0954,  0.1053,  0.1499,  ...,  0.1125, -0.0368,  0.0169],\n",
       "         [ 0.0305,  0.0350,  0.0015,  ...,  0.0648,  0.0072,  0.0693],\n",
       "         [ 0.0123, -0.0669,  0.1066,  ...,  0.0018,  0.1133, -0.0348]]])), ('keypoint_scores', tensor([[0.0492, 0.0660, 0.0957,  ..., 1.0013, 0.9241, 0.8969]])), ('image_size', tensor([[1024.,  768.]]))])"
      ]
     },
     "execution_count": 5,
     "metadata": {},
     "output_type": "execute_result"
    }
   ],
   "source": [
    "feats0.items()"
   ]
  },
  {
   "cell_type": "code",
   "execution_count": 6,
   "id": "dfb06165",
   "metadata": {
    "execution": {
     "iopub.execute_input": "2024-04-30T05:38:59.928212Z",
     "iopub.status.busy": "2024-04-30T05:38:59.927239Z",
     "iopub.status.idle": "2024-04-30T05:39:00.237582Z",
     "shell.execute_reply": "2024-04-30T05:39:00.236209Z"
    },
    "papermill": {
     "duration": 0.323457,
     "end_time": "2024-04-30T05:39:00.240291",
     "exception": false,
     "start_time": "2024-04-30T05:38:59.916834",
     "status": "completed"
    },
    "tags": []
   },
   "outputs": [
    {
     "data": {
      "image/png": "[encoded data removed]",
      "text/plain": [
       "<Figure size 640x480 with 1 Axes>"
      ]
     },
     "metadata": {},
     "output_type": "display_data"
    }
   ],
   "source": [
    "import matplotlib.pyplot as plt\n",
    "\n",
    "# 박스플롯 그리기\n",
    "plt.boxplot(feats0['keypoint_scores'])\n",
    "\n",
    "# 그래프에 제목 추가\n",
    "plt.title('Boxplot of Scores')\n",
    "\n",
    "# y축 레이블 추가\n",
    "plt.ylabel('Values')\n",
    "\n",
    "# 그래프 보여주기\n",
    "plt.show()"
   ]
  },
  {
   "cell_type": "markdown",
   "id": "6c0f87e1",
   "metadata": {
    "papermill": {
     "duration": 0.008968,
     "end_time": "2024-04-30T05:39:00.258961",
     "exception": false,
     "start_time": "2024-04-30T05:39:00.249993",
     "status": "completed"
    },
    "tags": []
   },
   "source": [
    "# DINO"
   ]
  },
  {
   "cell_type": "code",
   "execution_count": 7,
   "id": "e46d5c32",
   "metadata": {
    "execution": {
     "iopub.execute_input": "2024-04-30T05:39:00.280549Z",
     "iopub.status.busy": "2024-04-30T05:39:00.279753Z",
     "iopub.status.idle": "2024-04-30T05:39:05.335823Z",
     "shell.execute_reply": "2024-04-30T05:39:05.334622Z"
    },
    "papermill": {
     "duration": 5.070828,
     "end_time": "2024-04-30T05:39:05.338797",
     "exception": false,
     "start_time": "2024-04-30T05:39:00.267969",
     "status": "completed"
    },
    "tags": []
   },
   "outputs": [
    {
     "name": "stderr",
     "output_type": "stream",
     "text": [
      "/opt/conda/lib/python3.10/site-packages/torch/_utils.py:831: UserWarning: TypedStorage is deprecated. It will be removed in the future and UntypedStorage will be the only storage class. This should only matter to you if you are using storages directly.  To access UntypedStorage directly, use tensor.untyped_storage() instead of tensor.storage()\n",
      "  return self.fget.__get__(instance, owner)()\n"
     ]
    }
   ],
   "source": [
    "image = Image.open(\"/kaggle/input/image-matching-challenge-2024/train/church/images/00001.png\")\n",
    "\n",
    "processor = AutoImageProcessor.from_pretrained('/kaggle/input/dinov2/pytorch/base/1')\n",
    "model = AutoModel.from_pretrained('/kaggle/input/dinov2/pytorch/base/1')\n",
    "\n",
    "inputs = processor(images=image, return_tensors=\"pt\")\n",
    "outputs = model(**inputs)\n",
    "last_hidden_states = outputs.last_hidden_state"
   ]
  },
  {
   "cell_type": "code",
   "execution_count": 8,
   "id": "f3bd3a76",
   "metadata": {
    "execution": {
     "iopub.execute_input": "2024-04-30T05:39:05.360514Z",
     "iopub.status.busy": "2024-04-30T05:39:05.360096Z",
     "iopub.status.idle": "2024-04-30T05:39:06.010576Z",
     "shell.execute_reply": "2024-04-30T05:39:06.009247Z"
    },
    "papermill": {
     "duration": 0.665594,
     "end_time": "2024-04-30T05:39:06.014916",
     "exception": false,
     "start_time": "2024-04-30T05:39:05.349322",
     "status": "completed"
    },
    "tags": []
   },
   "outputs": [
    {
     "data": {
      "text/plain": [
       "torch.Size([1, 257, 768])"
      ]
     },
     "execution_count": 8,
     "metadata": {},
     "output_type": "execute_result"
    }
   ],
   "source": [
    "image2 = Image.open(\"/kaggle/input/image-matching-challenge-2024/train/church/images/00002.png\")\n",
    "inputs2 = processor(images=image2, return_tensors=\"pt\")\n",
    "outputs2 = model(**inputs2)\n",
    "last_hidden_states2 = outputs2.last_hidden_state\n",
    "last_hidden_states2.shape"
   ]
  },
  {
   "cell_type": "code",
   "execution_count": 9,
   "id": "f4ec3d37",
   "metadata": {
    "execution": {
     "iopub.execute_input": "2024-04-30T05:39:06.038020Z",
     "iopub.status.busy": "2024-04-30T05:39:06.037607Z",
     "iopub.status.idle": "2024-04-30T05:39:06.047038Z",
     "shell.execute_reply": "2024-04-30T05:39:06.045472Z"
    },
    "papermill": {
     "duration": 0.024381,
     "end_time": "2024-04-30T05:39:06.050140",
     "exception": false,
     "start_time": "2024-04-30T05:39:06.025759",
     "status": "completed"
    },
    "tags": []
   },
   "outputs": [
    {
     "data": {
      "text/plain": [
       "tensor(877.7618, grad_fn=<DistBackward0>)"
      ]
     },
     "execution_count": 9,
     "metadata": {},
     "output_type": "execute_result"
    }
   ],
   "source": [
    "torch.dist(last_hidden_states, last_hidden_states2)"
   ]
  },
  {
   "cell_type": "markdown",
   "id": "32b2cb52",
   "metadata": {
    "papermill": {
     "duration": 0.011402,
     "end_time": "2024-04-30T05:39:06.073592",
     "exception": false,
     "start_time": "2024-04-30T05:39:06.062190",
     "status": "completed"
    },
    "tags": []
   },
   "source": [
    "# LightGlue(disk)"
   ]
  },
  {
   "cell_type": "code",
   "execution_count": 10,
   "id": "730f9edc",
   "metadata": {
    "execution": {
     "iopub.execute_input": "2024-04-30T05:39:06.096284Z",
     "iopub.status.busy": "2024-04-30T05:39:06.095770Z",
     "iopub.status.idle": "2024-04-30T05:39:20.964202Z",
     "shell.execute_reply": "2024-04-30T05:39:20.962832Z"
    },
    "papermill": {
     "duration": 14.883737,
     "end_time": "2024-04-30T05:39:20.967026",
     "exception": false,
     "start_time": "2024-04-30T05:39:06.083289",
     "status": "completed"
    },
    "tags": []
   },
   "outputs": [
    {
     "name": "stderr",
     "output_type": "stream",
     "text": [
      "Downloading: \"https://github.com/cvg/LightGlue/releases/download/v0.1_arxiv/disk_lightglue.pth\" to /root/.cache/torch/hub/checkpoints/disk_lightglue_v0-1_arxiv-pth\n",
      "100%|██████████| 45.4M/45.4M [00:00<00:00, 226MB/s]\n",
      "Downloading: \"https://raw.githubusercontent.com/cvlab-epfl/disk/master/depth-save.pth\" to /root/.cache/torch/hub/checkpoints/depth-save.pth\n"
     ]
    },
    {
     "name": "stdout",
     "output_type": "stream",
     "text": [
      "Loaded LightGlue model\n"
     ]
    },
    {
     "name": "stderr",
     "output_type": "stream",
     "text": [
      "100%|██████████| 4.17M/4.17M [00:00<00:00, 122MB/s]\n",
      "/opt/conda/lib/python3.10/site-packages/kornia/feature/integrated.py:464: UserWarning: To copy construct from a tensor, it is recommended to use sourceTensor.clone().detach() or sourceTensor.clone().detach().requires_grad_(True), rather than torch.tensor(sourceTensor).\n",
      "  hw1_ = torch.tensor(hw1, device=dev)\n",
      "/opt/conda/lib/python3.10/site-packages/kornia/feature/integrated.py:468: UserWarning: To copy construct from a tensor, it is recommended to use sourceTensor.clone().detach() or sourceTensor.clone().detach().requires_grad_(True), rather than torch.tensor(sourceTensor).\n",
      "  hw2_ = torch.tensor(hw2, device=dev)\n"
     ]
    },
    {
     "name": "stdout",
     "output_type": "stream",
     "text": [
      "836 tentative matches with DISK LightGlue\n"
     ]
    }
   ],
   "source": [
    "fname1 = \"/kaggle/input/image-matching-challenge-2024/train/church/images/00001.png\"\n",
    "fname2 = \"/kaggle/input/image-matching-challenge-2024/train/church/images/00002.png\"\n",
    "\n",
    "lg_matcher = KF.LightGlueMatcher(\"disk\").eval().to(device)\n",
    "\n",
    "img1 = K.io.load_image(fname1, K.io.ImageLoadType.RGB32, device=device)[None, ...]\n",
    "img2 = K.io.load_image(fname2, K.io.ImageLoadType.RGB32, device=device)[None, ...]\n",
    "\n",
    "num_features = 2048\n",
    "disk = KF.DISK.from_pretrained(\"depth\").to(device)\n",
    "hw1 = torch.tensor(img1.shape[2:], device=device)\n",
    "hw2 = torch.tensor(img2.shape[2:], device=device)\n",
    "\n",
    "with torch.inference_mode():\n",
    "    inp = torch.cat([img1, img2], dim=0)\n",
    "    features1, features2 = disk(inp, num_features, pad_if_not_divisible=True)\n",
    "    kps1, descs1 = features1.keypoints, features1.descriptors\n",
    "    kps2, descs2 = features2.keypoints, features2.descriptors\n",
    "    lafs1 = KF.laf_from_center_scale_ori(kps1[None])\n",
    "    lafs2 = KF.laf_from_center_scale_ori(kps2[None])\n",
    "    dists, idxs = lg_matcher(descs1, descs2, lafs1, lafs2, hw1=hw1, hw2=hw2)\n",
    "\n",
    "print(f\"{idxs.shape[0]} tentative matches with DISK LightGlue\")"
   ]
  },
  {
   "cell_type": "markdown",
   "id": "c267fd45",
   "metadata": {
    "papermill": {
     "duration": 0.01023,
     "end_time": "2024-04-30T05:39:20.989159",
     "exception": false,
     "start_time": "2024-04-30T05:39:20.978929",
     "status": "completed"
    },
    "tags": []
   },
   "source": [
    "# Lightglue(Aliked)"
   ]
  },
  {
   "cell_type": "code",
   "execution_count": 11,
   "id": "1b84d5dd",
   "metadata": {
    "execution": {
     "iopub.execute_input": "2024-04-30T05:39:21.012426Z",
     "iopub.status.busy": "2024-04-30T05:39:21.011980Z",
     "iopub.status.idle": "2024-04-30T05:39:31.219686Z",
     "shell.execute_reply": "2024-04-30T05:39:31.218555Z"
    },
    "papermill": {
     "duration": 10.222759,
     "end_time": "2024-04-30T05:39:31.222577",
     "exception": false,
     "start_time": "2024-04-30T05:39:20.999818",
     "status": "completed"
    },
    "tags": []
   },
   "outputs": [
    {
     "name": "stderr",
     "output_type": "stream",
     "text": [
      "Downloading: \"https://github.com/cvg/LightGlue/releases/download/v0.1_arxiv/aliked_lightglue.pth\" to /root/.cache/torch/hub/checkpoints/aliked_lightglue_v0-1_arxiv-pth\n",
      "100%|██████████| 45.4M/45.4M [00:00<00:00, 243MB/s]\n"
     ]
    },
    {
     "name": "stdout",
     "output_type": "stream",
     "text": [
      "Loaded LightGlue model\n",
      "1033 tentative matches with DISK LightGlue\n"
     ]
    }
   ],
   "source": [
    "fname1 = \"/kaggle/input/image-matching-challenge-2024/train/church/images/00001.png\"\n",
    "fname2 = \"/kaggle/input/image-matching-challenge-2024/train/church/images/00002.png\"\n",
    "\n",
    "lg_matcher = KF.LightGlueMatcher(\"aliked\").eval().to(device)\n",
    "\n",
    "img1 = K.io.load_image(fname1, K.io.ImageLoadType.RGB32, device=device)[None, ...]\n",
    "img2 = K.io.load_image(fname2, K.io.ImageLoadType.RGB32, device=device)[None, ...]\n",
    "\n",
    "hw1 = torch.tensor(img1.shape[2:], device=device)\n",
    "hw2 = torch.tensor(img2.shape[2:], device=device)\n",
    "\n",
    "with torch.inference_mode():\n",
    "    features1, features2 = aliked.extract(img1), aliked.extract(img2)\n",
    "    kps1, descs1 = features1[\"keypoints\"][0], features1[\"descriptors\"][0]\n",
    "    kps2, descs2 = features2[\"keypoints\"][0], features2[\"descriptors\"][0]\n",
    "    lafs1 = KF.laf_from_center_scale_ori(kps1[None])\n",
    "    lafs2 = KF.laf_from_center_scale_ori(kps2[None])\n",
    "    dists, idxs = lg_matcher(descs1, descs2, lafs1, lafs2, hw1=hw1, hw2=hw2)\n",
    "\n",
    "print(f\"{idxs.shape[0]} tentative matches with DISK LightGlue\")"
   ]
  }
 ],
 "metadata": {
  "kaggle": {
   "accelerator": "none",
   "dataSources": [
    {
     "databundleVersionId": 8143495,
     "sourceId": 71885,
     "sourceType": "competition"
    },
    {
     "modelInstanceId": 3326,
     "sourceId": 4534,
     "sourceType": "modelInstanceVersion"
    }
   ],
   "dockerImageVersionId": 30698,
   "isGpuEnabled": false,
   "isInternetEnabled": true,
   "language": "python",
   "sourceType": "notebook"
  },
  "kernelspec": {
   "display_name": "Python 3",
   "language": "python",
   "name": "python3"
  },
  "language_info": {
   "codemirror_mode": {
    "name": "ipython",
    "version": 3
   },
   "file_extension": ".py",
   "mimetype": "text/x-python",
   "name": "python",
   "nbconvert_exporter": "python",
   "pygments_lexer": "ipython3",
   "version": "3.10.13"
  },
  "papermill": {
   "default_parameters": {},
   "duration": 104.293316,
   "end_time": "2024-04-30T05:39:34.311122",
   "environment_variables": {},
   "exception": null,
   "input_path": "__notebook__.ipynb",
   "output_path": "__notebook__.ipynb",
   "parameters": {},
   "start_time": "2024-04-30T05:37:50.017806",
   "version": "2.5.0"
  }
 },
 "nbformat": 4,
 "nbformat_minor": 5
}
